{
 "cells": [
  {
   "cell_type": "code",
   "execution_count": 49,
   "metadata": {
    "collapsed": true
   },
   "outputs": [],
   "source": [
    "import numpy as np\n",
    "import matplotlib.pyplot as plt\n",
    "\n",
    "def myplot(myx,myy,granularity,func):\n",
    "    # Initialize the grid\n",
    "    n = granularity\n",
    "    x = np.linspace(myx[0],myx[1],n) # all the x points on the graph\n",
    "    y = np.linspace(myy[0],myy[1],n) # all the y points on the graph\n",
    "    X,Y = np.meshgrid(x,y) # Matrix of all points in the graph. \n",
    "                       # X=matrix of X values, same value in each column. \n",
    "                       # Y=matrix of y values, same value in each row\n",
    "    Z = np.zeros(X.shape) # This will be the matrix of the predicted value for that point in the matrix\n",
    "\n",
    "    # Classify each point in the grid\n",
    "    for iy in range(X.shape[0]):\n",
    "        for ix in range(X.shape[1]):\n",
    "            Z[iy][ix] = func(x[ix],y[iy]) # return the integer class the model will predict at point ix,iy\n",
    "\n",
    "    # Plot it with matplotlib.pyplot as plt \n",
    "    plt.contourf(X, Y, Z, alpha=.5, cmap='jet') # Fills in the boundary colors\n",
    "    plt.contour(X, Y, Z, colors='black') # Draws the boundary lines\n",
    "    plt.show()"
   ]
  },
  {
   "cell_type": "code",
   "execution_count": 50,
   "metadata": {
    "collapsed": true
   },
   "outputs": [],
   "source": [
    "def myfunction(x,y):\n",
    "    myreturn = 0\n",
    "    myval = x + y\n",
    "    if (x + 1) > myval:\n",
    "        myreturn = 1\n",
    "        myval = x + 1\n",
    "    if (y - 1) > myval:\n",
    "        myreturn = 2\n",
    "    return myreturn"
   ]
  },
  {
   "cell_type": "code",
   "execution_count": 53,
   "metadata": {},
   "outputs": [
    {
     "data": {
      "image/png": "[encoded data removed]",
      "text/plain": [
       "<matplotlib.figure.Figure at 0x111c592e8>"
      ]
     },
     "metadata": {},
     "output_type": "display_data"
    }
   ],
   "source": [
    "myplot([-3,3],[-3,3],1000,myfunction)\n",
    "# Note: colors go from blue to red (0 is blue, 1 is green, 2 is red)"
   ]
  },
  {
   "cell_type": "code",
   "execution_count": 57,
   "metadata": {},
   "outputs": [
    {
     "name": "stdout",
     "output_type": "stream",
     "text": [
      "[1, 1]\n",
      "0\n"
     ]
    }
   ],
   "source": [
    "x = []\n",
    "y = []\n",
    "\n",
    "with open(\"data0.txt\", \"r\") as filestream:\n",
    "    for line in filestream:\n",
    "        currentline = line.split()\n",
    "        if len(currentline) == 0:\n",
    "            break\n",
    "        temp = []\n",
    "        for i in range(len(currentline) - 1):\n",
    "            temp.append(int(currentline[i]))\n",
    "        x.append(temp)\n",
    "        y.append(int(currentline[-1]))\n",
    "        \n",
    "print (x[0])\n",
    "print (y[0])"
   ]
  },
  {
   "cell_type": "code",
   "execution_count": 68,
   "metadata": {
    "collapsed": true
   },
   "outputs": [],
   "source": [
    "def dotprod(x,y):\n",
    "    returnval = 0\n",
    "    for i in range(len(x)):\n",
    "        returnval += x[i]*y[i]\n",
    "    return returnval\n",
    "\n",
    "def multi_percep(x,y):\n",
    "    weights = [[0,0],[0,0],[0,0],[0,0]]\n",
    "    b = [0,0,0,0]\n",
    "    num_wrong = 100\n",
    "    \n",
    "    while (num_wrong > 0):\n",
    "        num_wrong = 0\n",
    "        for i in range(len(x)):\n",
    "            values = [0,0,0,0]\n",
    "            values[0] = dotprod(weights[0],x[i]) + b[0]\n",
    "            values[1] = dotprod(weights[1],x[i]) + b[1]\n",
    "            values[2] = dotprod(weights[2],x[i]) + b[2]\n",
    "            values[3] = dotprod(weights[3],x[i]) + b[3]\n",
    "            prediction = values.index(max(values))\n",
    "            \n",
    "            if prediction != y[i]:\n",
    "                weights[y[i]][0] += x[i][0]\n",
    "                weights[y[i]][1] += x[i][1]\n",
    "                b[y[i]] += 1\n",
    "                weights[prediction][0] -= x[i][0]\n",
    "                weights[prediction][1] -= x[i][1]\n",
    "                b[prediction] -= 1\n",
    "                num_wrong += 1\n",
    "    \n",
    "    return [weights,b]"
   ]
  },
  {
   "cell_type": "code",
   "execution_count": 69,
   "metadata": {},
   "outputs": [],
   "source": [
    "[a,b] = multi_percep(x,y)"
   ]
  },
  {
   "cell_type": "code",
   "execution_count": 70,
   "metadata": {},
   "outputs": [
    {
     "name": "stdout",
     "output_type": "stream",
     "text": [
      "[[5, -8], [-46, 35], [29, -34], [12, 7]]\n",
      "[62, -16, -13, -33]\n"
     ]
    }
   ],
   "source": [
    "print (a)\n",
    "print (b)"
   ]
  },
  {
   "cell_type": "code",
   "execution_count": 71,
   "metadata": {
    "collapsed": true
   },
   "outputs": [],
   "source": [
    "def myfunction2(x,y):\n",
    "    myreturn = 0\n",
    "    myvals = [0,0,0,0]\n",
    "    myvals[0] = dotprod(a[0],[x,y]) + b[0]\n",
    "    myvals[1] = dotprod(a[1],[x,y]) + b[1]\n",
    "    myvals[2] = dotprod(a[2],[x,y]) + b[2]\n",
    "    myvals[3] = dotprod(a[3],[x,y]) + b[3]\n",
    "    \n",
    "    return myvals.index(max(myvals))"
   ]
  },
  {
   "cell_type": "code",
   "execution_count": 86,
   "metadata": {
    "collapsed": true
   },
   "outputs": [],
   "source": [
    "def myplot2(myx,myy,granularity,func,xscatter,yscatter,colorscatter):\n",
    "    # Initialize the grid\n",
    "    n = granularity\n",
    "    x = np.linspace(myx[0],myx[1],n) # all the x points on the graph\n",
    "    y = np.linspace(myy[0],myy[1],n) # all the y points on the graph\n",
    "    X,Y = np.meshgrid(x,y) # Matrix of all points in the graph. \n",
    "                       # X=matrix of X values, same value in each column. \n",
    "                       # Y=matrix of y values, same value in each row\n",
    "    Z = np.zeros(X.shape) # This will be the matrix of the predicted value for that point in the matrix\n",
    "\n",
    "    # Classify each point in the grid\n",
    "    for iy in range(X.shape[0]):\n",
    "        for ix in range(X.shape[1]):\n",
    "            Z[iy][ix] = func(x[ix],y[iy]) # return the integer class the model will predict at point ix,iy\n",
    "\n",
    "    # Plot it with matplotlib.pyplot as plt \n",
    "    plt.contourf(X, Y, Z, alpha=.5, cmap='jet') # Fills in the boundary colors\n",
    "    plt.contour(X, Y, Z, colors='black') # Draws the boundary lines\n",
    "    markers = []\n",
    "    mycolors = []\n",
    "    for i in range(len(colorscatter)):\n",
    "        if colorscatter[i] == 0:\n",
    "            markers.append(u'o')\n",
    "            mycolors.append('b')\n",
    "        if colorscatter[i] == 1:\n",
    "            markers.append(u'^')\n",
    "            mycolors.append('g')\n",
    "        if colorscatter[i] == 2:\n",
    "            markers.append(u's')\n",
    "            mycolors.append('r')\n",
    "        if colorscatter[i] == 3:\n",
    "            markers.append(u'*')\n",
    "            mycolors.append('y')\n",
    "    for xp, yp, mycolor, m in zip(xscatter, yscatter, mycolors, markers):\n",
    "        plt.scatter([xp],[yp], c=mycolor, marker=m)\n",
    "    #plt.scatter(xscatter,yscatter,c=colorscatter,marker=markers)\n",
    "    plt.show()"
   ]
  },
  {
   "cell_type": "code",
   "execution_count": 87,
   "metadata": {},
   "outputs": [
    {
     "data": {
      "image/png": "[encoded data removed]",
      "text/plain": [
       "<matplotlib.figure.Figure at 0x1065c7320>"
      ]
     },
     "metadata": {},
     "output_type": "display_data"
    }
   ],
   "source": [
    "x1 = []\n",
    "x2 = []\n",
    "for i in range(len(x)):\n",
    "    x1.append(x[i][0])\n",
    "    x2.append(x[i][1])\n",
    "myplot2([0,12],[0,12],1000,myfunction2,x1,x2,y)"
   ]
  },
  {
   "cell_type": "code",
   "execution_count": 90,
   "metadata": {},
   "outputs": [
    {
     "name": "stdout",
     "output_type": "stream",
     "text": [
      "[2, 1]\n",
      "1\n",
      "[1, 2]\n",
      "1\n"
     ]
    }
   ],
   "source": [
    "x1 = []\n",
    "y1 = []\n",
    "\n",
    "with open(\"data1.txt\", \"r\") as filestream:\n",
    "    for line in filestream:\n",
    "        currentline = line.split()\n",
    "        if len(currentline) == 0:\n",
    "            break\n",
    "        temp = []\n",
    "        for i in range(len(currentline) - 1):\n",
    "            temp.append(int(currentline[i]))\n",
    "        x1.append(temp)\n",
    "        y1.append(int(currentline[-1]))\n",
    "        \n",
    "print (x1[1])\n",
    "print (y1[1])\n",
    "\n",
    "x2 = []\n",
    "y2 = []\n",
    "\n",
    "with open(\"data2.txt\", \"r\") as filestream:\n",
    "    for line in filestream:\n",
    "        currentline = line.split()\n",
    "        if len(currentline) == 0:\n",
    "            break\n",
    "        temp = []\n",
    "        for i in range(len(currentline) - 1):\n",
    "            temp.append(int(currentline[i]))\n",
    "        x2.append(temp)\n",
    "        y2.append(int(currentline[-1]))\n",
    "        \n",
    "print (x2[1])\n",
    "print (y2[1])"
   ]
  },
  {
   "cell_type": "code",
   "execution_count": 91,
   "metadata": {
    "collapsed": true
   },
   "outputs": [],
   "source": [
    "def kernel_percep(x,y,kernel):\n",
    "    alpha = [0]*len(x)\n",
    "    b = 0\n",
    "    num_wrong = 100\n",
    "    \n",
    "    while (num_wrong > 0):\n",
    "        num_wrong = 0\n",
    "        for i in range(len(x)):\n",
    "            mysum = 0\n",
    "            for j in range(len(x)):\n",
    "                mysum += alpha[j]*y[j]*kernel(x[j],x[i])\n",
    "            if y[i]*(mysum + b) <= 0:\n",
    "                alpha[i] += 1\n",
    "                b += y[i]\n",
    "                num_wrong += 1\n",
    "    \n",
    "    return [alpha,b]"
   ]
  },
  {
   "cell_type": "code",
   "execution_count": 92,
   "metadata": {
    "collapsed": true
   },
   "outputs": [],
   "source": [
    "def quadkernel(x,z):\n",
    "    return (1+dotprod(x,z))**2"
   ]
  },
  {
   "cell_type": "code",
   "execution_count": 95,
   "metadata": {},
   "outputs": [],
   "source": [
    "[a,b] = kernel_percep(x1,y1,quadkernel)"
   ]
  },
  {
   "cell_type": "code",
   "execution_count": 96,
   "metadata": {},
   "outputs": [
    {
     "name": "stdout",
     "output_type": "stream",
     "text": [
      "[5, 5, 4, 4, 1, 0, 0, 0, 0, 0, 4, 4, 2, 1, 0, 0, 0, 0, 0, 0, 3, 3, 2, 0, 0, 0, 0, 0, 0, 0, 0, 0, 2, 0, 0, 1, 1, 0, 0, 0, 0, 1, 0, 0, 0, 0, 0, 0, 0, 0, 0, 7, 0, 0, 0, 0, 0, 0, 0, 0, 0, 0, 0, 0, 0, 0, 0, 0, 0, 0, 0, 0, 0, 0, 0, 0]\n",
      "36\n"
     ]
    }
   ],
   "source": [
    "print (a)\n",
    "print (b)"
   ]
  },
  {
   "cell_type": "code",
   "execution_count": 97,
   "metadata": {
    "collapsed": true
   },
   "outputs": [],
   "source": [
    "def myfunction3(x,y):\n",
    "    mysum = 0\n",
    "    for i in range(len(a)):\n",
    "        mysum += a[i]*y1[i]*quadkernel(x1[i],[x,y])\n",
    "    if mysum + b <= 0:\n",
    "        return 0\n",
    "    else:\n",
    "        return 1"
   ]
  },
  {
   "cell_type": "code",
   "execution_count": 98,
   "metadata": {
    "collapsed": true
   },
   "outputs": [],
   "source": [
    "def myplot3(myx,myy,granularity,func,xscatter,yscatter,colorscatter):\n",
    "    # Initialize the grid\n",
    "    n = granularity\n",
    "    x = np.linspace(myx[0],myx[1],n) # all the x points on the graph\n",
    "    y = np.linspace(myy[0],myy[1],n) # all the y points on the graph\n",
    "    X,Y = np.meshgrid(x,y) # Matrix of all points in the graph. \n",
    "                       # X=matrix of X values, same value in each column. \n",
    "                       # Y=matrix of y values, same value in each row\n",
    "    Z = np.zeros(X.shape) # This will be the matrix of the predicted value for that point in the matrix\n",
    "\n",
    "    # Classify each point in the grid\n",
    "    for iy in range(X.shape[0]):\n",
    "        for ix in range(X.shape[1]):\n",
    "            Z[iy][ix] = func(x[ix],y[iy]) # return the integer class the model will predict at point ix,iy\n",
    "\n",
    "    # Plot it with matplotlib.pyplot as plt \n",
    "    plt.contourf(X, Y, Z, alpha=.5, cmap='jet') # Fills in the boundary colors\n",
    "    plt.contour(X, Y, Z, colors='black') # Draws the boundary lines\n",
    "    markers = []\n",
    "    mycolors = []\n",
    "    for i in range(len(colorscatter)):\n",
    "        if colorscatter[i] == -1:\n",
    "            markers.append(u'o')\n",
    "            mycolors.append('b')\n",
    "        if colorscatter[i] == 1:\n",
    "            markers.append(u'^')\n",
    "            mycolors.append('g')\n",
    "    for xp, yp, mycolor, m in zip(xscatter, yscatter, mycolors, markers):\n",
    "        plt.scatter([xp],[yp], c=mycolor, marker=m)\n",
    "    #plt.scatter(xscatter,yscatter,c=colorscatter,marker=markers)\n",
    "    plt.show()"
   ]
  },
  {
   "cell_type": "code",
   "execution_count": 102,
   "metadata": {},
   "outputs": [
    {
     "data": {
      "image/png": "[encoded data removed]",
      "text/plain": [
       "<matplotlib.figure.Figure at 0x1117348d0>"
      ]
     },
     "metadata": {},
     "output_type": "display_data"
    }
   ],
   "source": [
    "xscatter = []\n",
    "yscatter = []\n",
    "for i in range(len(x1)):\n",
    "    xscatter.append(x1[i][0])\n",
    "    yscatter.append(x1[i][1])\n",
    "myplot3([0,12],[0,12],1000,myfunction3,xscatter,yscatter,y1)"
   ]
  },
  {
   "cell_type": "code",
   "execution_count": 104,
   "metadata": {},
   "outputs": [],
   "source": [
    "[a,b] = kernel_percep(x2,y2,quadkernel)\n",
    "\n",
    "def myfunction4(x,y):\n",
    "    mysum = 0\n",
    "    for i in range(len(a)):\n",
    "        mysum += a[i]*y2[i]*quadkernel(x2[i],[x,y])\n",
    "    if mysum + b <= 0:\n",
    "        return 0\n",
    "    else:\n",
    "        return 1"
   ]
  },
  {
   "cell_type": "code",
   "execution_count": 107,
   "metadata": {},
   "outputs": [
    {
     "data": {
      "image/png": "[encoded data removed]",
      "text/plain": [
       "<matplotlib.figure.Figure at 0x111c4e860>"
      ]
     },
     "metadata": {},
     "output_type": "display_data"
    }
   ],
   "source": [
    "xscatter = []\n",
    "yscatter = []\n",
    "for i in range(len(x2)):\n",
    "    xscatter.append(x2[i][0])\n",
    "    yscatter.append(x2[i][1])\n",
    "myplot3([0,12],[0,12],1000,myfunction4,xscatter,yscatter,y2)"
   ]
  },
  {
   "cell_type": "code",
   "execution_count": 116,
   "metadata": {
    "collapsed": true
   },
   "outputs": [],
   "source": [
    "import math\n",
    "\n",
    "def rbfkernel(x,z):\n",
    "    mysum = 0\n",
    "    for i in range(len(x)):\n",
    "        mysum += (x[i] - z[i])**2\n",
    "    exponent = -1*mysum/1 #s=1, s^2=1\n",
    "    return math.exp(exponent)\n",
    "\n",
    "def rbfkernel2(x,z):\n",
    "    mysum = 0\n",
    "    for i in range(len(x)):\n",
    "        mysum += (x[i] - z[i])**2\n",
    "    exponent = -1*mysum/100 #s=10, s^2=100\n",
    "    return math.exp(exponent)"
   ]
  },
  {
   "cell_type": "code",
   "execution_count": 117,
   "metadata": {
    "collapsed": true
   },
   "outputs": [],
   "source": [
    "[a,b] = kernel_percep(x1,y1,rbfkernel)\n",
    "\n",
    "def myfunction5(x,y):\n",
    "    mysum = 0\n",
    "    for i in range(len(a)):\n",
    "        mysum += a[i]*y1[i]*rbfkernel(x1[i],[x,y])\n",
    "    if mysum + b <= 0:\n",
    "        return 0\n",
    "    else:\n",
    "        return 1"
   ]
  },
  {
   "cell_type": "code",
   "execution_count": 120,
   "metadata": {},
   "outputs": [
    {
     "data": {
      "image/png": "[encoded data removed]",
      "text/plain": [
       "<matplotlib.figure.Figure at 0x10d7c4c50>"
      ]
     },
     "metadata": {},
     "output_type": "display_data"
    }
   ],
   "source": [
    "xscatter = []\n",
    "yscatter = []\n",
    "for i in range(len(x1)):\n",
    "    xscatter.append(x1[i][0])\n",
    "    yscatter.append(x1[i][1])\n",
    "myplot3([0,12],[0,12],1000,myfunction5,xscatter,yscatter,y1)"
   ]
  },
  {
   "cell_type": "code",
   "execution_count": 124,
   "metadata": {
    "collapsed": true
   },
   "outputs": [],
   "source": [
    "[a,b] = kernel_percep(x1,y1,rbfkernel2)\n",
    "\n",
    "def myfunction6(x,y):\n",
    "    mysum = 0\n",
    "    for i in range(len(a)):\n",
    "        mysum += a[i]*y1[i]*rbfkernel2(x1[i],[x,y])\n",
    "    if mysum + b <= 0:\n",
    "        return 0\n",
    "    else:\n",
    "        return 1"
   ]
  },
  {
   "cell_type": "code",
   "execution_count": 125,
   "metadata": {},
   "outputs": [
    {
     "data": {
      "image/png": "[encoded data removed]",
      "text/plain": [
       "<matplotlib.figure.Figure at 0x10d8205f8>"
      ]
     },
     "metadata": {},
     "output_type": "display_data"
    }
   ],
   "source": [
    "xscatter = []\n",
    "yscatter = []\n",
    "for i in range(len(x1)):\n",
    "    xscatter.append(x1[i][0])\n",
    "    yscatter.append(x1[i][1])\n",
    "myplot3([0,12],[0,12],1000,myfunction6,xscatter,yscatter,y1)"
   ]
  },
  {
   "cell_type": "code",
   "execution_count": 132,
   "metadata": {
    "collapsed": true
   },
   "outputs": [],
   "source": [
    "[a,b] = kernel_percep(x2,y2,rbfkernel)\n",
    "\n",
    "def myfunction7(x,y):\n",
    "    mysum = 0\n",
    "    for i in range(len(a)):\n",
    "        mysum += a[i]*y2[i]*rbfkernel(x2[i],[x,y])\n",
    "    if mysum + b <= 0:\n",
    "        return 0\n",
    "    else:\n",
    "        return 1"
   ]
  },
  {
   "cell_type": "code",
   "execution_count": 133,
   "metadata": {},
   "outputs": [
    {
     "data": {
      "image/png": "[encoded data removed]",
      "text/plain": [
       "<matplotlib.figure.Figure at 0x10d8bf588>"
      ]
     },
     "metadata": {},
     "output_type": "display_data"
    }
   ],
   "source": [
    "xscatter = []\n",
    "yscatter = []\n",
    "for i in range(len(x2)):\n",
    "    xscatter.append(x2[i][0])\n",
    "    yscatter.append(x2[i][1])\n",
    "myplot3([0,12],[0,12],1000,myfunction7,xscatter,yscatter,y2)"
   ]
  },
  {
   "cell_type": "code",
   "execution_count": 134,
   "metadata": {
    "collapsed": true
   },
   "outputs": [],
   "source": [
    "[a,b] = kernel_percep(x2,y2,rbfkernel2)\n",
    "\n",
    "def myfunction8(x,y):\n",
    "    mysum = 0\n",
    "    for i in range(len(a)):\n",
    "        mysum += a[i]*y2[i]*rbfkernel2(x2[i],[x,y])\n",
    "    if mysum + b <= 0:\n",
    "        return 0\n",
    "    else:\n",
    "        return 1"
   ]
  },
  {
   "cell_type": "code",
   "execution_count": 135,
   "metadata": {},
   "outputs": [
    {
     "data": {
      "image/png": "[encoded data removed]",
      "text/plain": [
       "<matplotlib.figure.Figure at 0x110f5de48>"
      ]
     },
     "metadata": {},
     "output_type": "display_data"
    }
   ],
   "source": [
    "xscatter = []\n",
    "yscatter = []\n",
    "for i in range(len(x2)):\n",
    "    xscatter.append(x2[i][0])\n",
    "    yscatter.append(x2[i][1])\n",
    "myplot3([0,12],[0,12],1000,myfunction8,xscatter,yscatter,y2)"
   ]
  },
  {
   "cell_type": "code",
   "execution_count": null,
   "metadata": {
    "collapsed": true
   },
   "outputs": [],
   "source": []
  }
 ],
 "metadata": {
  "kernelspec": {
   "display_name": "Python 3",
   "language": "python",
   "name": "python3"
  },
  "language_info": {
   "codemirror_mode": {
    "name": "ipython",
    "version": 3
   },
   "file_extension": ".py",
   "mimetype": "text/x-python",
   "name": "python",
   "nbconvert_exporter": "python",
   "pygments_lexer": "ipython3",
   "version": "3.6.2"
  }
 },
 "nbformat": 4,
 "nbformat_minor": 2
}

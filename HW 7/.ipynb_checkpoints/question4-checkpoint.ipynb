{
 "cells": [
  {
   "cell_type": "code",
   "execution_count": 6,
   "metadata": {
    "collapsed": true
   },
   "outputs": [],
   "source": [
    "from sklearn.svm import LinearSVC\n",
    "from sklearn.preprocessing import normalize\n",
    "import numpy as np"
   ]
  },
  {
   "cell_type": "code",
   "execution_count": 2,
   "metadata": {
    "collapsed": true
   },
   "outputs": [],
   "source": [
    "def get_data_and_labels(images_filename, labels_filename):\n",
    "    print(\"Opening files ...\")\n",
    "    images_file = open(images_filename, \"rb\")\n",
    "    labels_file = open(labels_filename, \"rb\")\n",
    "\n",
    "    try:\n",
    "        print(\"Reading files ...\")\n",
    "        images_file.read(4)\n",
    "        num_of_items = int.from_bytes(images_file.read(4), byteorder=\"big\")\n",
    "        num_of_rows = int.from_bytes(images_file.read(4), byteorder=\"big\")\n",
    "        num_of_colums = int.from_bytes(images_file.read(4), byteorder=\"big\")\n",
    "        labels_file.read(8)\n",
    "\n",
    "        num_of_image_values = num_of_rows * num_of_colums\n",
    "        data = [[None for x in range(num_of_image_values)]\n",
    "                for y in range(num_of_items)]\n",
    "        labels = []\n",
    "        for item in range(num_of_items):\n",
    "            if item % 10000 == 0:\n",
    "                print(\"Current image number: %7d\" % item)\n",
    "            for value in range(num_of_image_values):\n",
    "                data[item][value] = int.from_bytes(images_file.read(1),\n",
    "                                                   byteorder=\"big\")\n",
    "            labels.append(int.from_bytes(labels_file.read(1), byteorder=\"big\"))\n",
    "        return data, labels\n",
    "    finally:\n",
    "        images_file.close()\n",
    "        labels_file.close()\n",
    "        print(\"Files closed.\")\n"
   ]
  },
  {
   "cell_type": "code",
   "execution_count": 3,
   "metadata": {},
   "outputs": [
    {
     "name": "stdout",
     "output_type": "stream",
     "text": [
      "Opening files ...\n",
      "Reading files ...\n",
      "Current image number:       0\n",
      "Current image number:   10000\n",
      "Current image number:   20000\n",
      "Current image number:   30000\n",
      "Current image number:   40000\n",
      "Current image number:   50000\n",
      "Files closed.\n"
     ]
    }
   ],
   "source": [
    "train_x, train_y  = get_data_and_labels(\"mnist_train_images\", \"mnist_train_labels\")"
   ]
  },
  {
   "cell_type": "code",
   "execution_count": 4,
   "metadata": {},
   "outputs": [
    {
     "name": "stdout",
     "output_type": "stream",
     "text": [
      "Opening files ...\n",
      "Reading files ...\n",
      "Current image number:       0\n",
      "Files closed.\n"
     ]
    }
   ],
   "source": [
    "test_x, test_y  = get_data_and_labels(\"mnist_test_images\", \"mnist_test_labels\")"
   ]
  },
  {
   "cell_type": "code",
   "execution_count": 5,
   "metadata": {
    "collapsed": true
   },
   "outputs": [],
   "source": [
    "# perform normalization on entire training set\n",
    "#normal_train_x = normalize(train_x)"
   ]
  },
  {
   "cell_type": "code",
   "execution_count": 11,
   "metadata": {},
   "outputs": [],
   "source": [
    "def linSVC(x,y,testx,testy,myc):\n",
    "    clf = LinearSVC(loss='hinge',C=myc)\n",
    "    clf.fit(x,y)\n",
    "    \n",
    "    print (\"C: \" + str(myc))\n",
    "    \n",
    "    error = 0\n",
    "    for i in range(len(x)):\n",
    "        if clf.predict([x[i]])[0] != y[i]:\n",
    "            error += 1\n",
    "    print (\"Training error: \" + str((error+0.0)/len(x)))\n",
    "    \n",
    "    error = 0\n",
    "    for i in range(len(testx)):\n",
    "        if clf.predict([testx[i]])[0] != testy[i]:\n",
    "            error += 1\n",
    "    print (\"Training error: \" + str((error+0.0)/len(testx)))"
   ]
  },
  {
   "cell_type": "code",
   "execution_count": 12,
   "metadata": {},
   "outputs": [
    {
     "name": "stdout",
     "output_type": "stream",
     "text": [
      "C: 0.01\n",
      "Training error: 0.12201666666666666\n",
      "Training error: 0.1194\n"
     ]
    }
   ],
   "source": [
    "linSVC(train_x, train_y, test_x, test_y,0.01)"
   ]
  },
  {
   "cell_type": "code",
   "execution_count": 13,
   "metadata": {},
   "outputs": [
    {
     "name": "stdout",
     "output_type": "stream",
     "text": [
      "C: 0.1\n",
      "Training error: 0.10413333333333333\n",
      "Training error: 0.1137\n"
     ]
    }
   ],
   "source": [
    "linSVC(train_x, train_y, test_x, test_y,0.1)"
   ]
  },
  {
   "cell_type": "code",
   "execution_count": 14,
   "metadata": {},
   "outputs": [
    {
     "name": "stdout",
     "output_type": "stream",
     "text": [
      "C: 1.0\n",
      "Training error: 0.12221666666666667\n",
      "Training error: 0.1338\n"
     ]
    }
   ],
   "source": [
    "linSVC(train_x, train_y, test_x, test_y,1.0)"
   ]
  },
  {
   "cell_type": "code",
   "execution_count": 15,
   "metadata": {},
   "outputs": [
    {
     "name": "stdout",
     "output_type": "stream",
     "text": [
      "C: 10.0\n",
      "Training error: 0.11088333333333333\n",
      "Training error: 0.1194\n"
     ]
    }
   ],
   "source": [
    "linSVC(train_x, train_y, test_x, test_y,10.0)"
   ]
  },
  {
   "cell_type": "code",
   "execution_count": 16,
   "metadata": {},
   "outputs": [
    {
     "name": "stdout",
     "output_type": "stream",
     "text": [
      "C: 100.0\n",
      "Training error: 0.11056666666666666\n",
      "Training error: 0.1182\n"
     ]
    }
   ],
   "source": [
    "linSVC(train_x, train_y, test_x, test_y,100.0)"
   ]
  },
  {
   "cell_type": "code",
   "execution_count": 18,
   "metadata": {},
   "outputs": [
    {
     "ename": "NameError",
     "evalue": "name 'x' is not defined",
     "output_type": "error",
     "traceback": [
      "\u001b[0;31m---------------------------------------------------------------------------\u001b[0m",
      "\u001b[0;31mNameError\u001b[0m                                 Traceback (most recent call last)",
      "\u001b[0;32m<ipython-input-18-69409b435fc8>\u001b[0m in \u001b[0;36m<module>\u001b[0;34m()\u001b[0m\n\u001b[1;32m      5\u001b[0m \u001b[0;34m\u001b[0m\u001b[0m\n\u001b[1;32m      6\u001b[0m \u001b[0merror\u001b[0m \u001b[0;34m=\u001b[0m \u001b[0;36m0\u001b[0m\u001b[0;34m\u001b[0m\u001b[0m\n\u001b[0;32m----> 7\u001b[0;31m \u001b[0;32mfor\u001b[0m \u001b[0mi\u001b[0m \u001b[0;32min\u001b[0m \u001b[0mrange\u001b[0m\u001b[0;34m(\u001b[0m\u001b[0mlen\u001b[0m\u001b[0;34m(\u001b[0m\u001b[0mx\u001b[0m\u001b[0;34m)\u001b[0m\u001b[0;34m)\u001b[0m\u001b[0;34m:\u001b[0m\u001b[0;34m\u001b[0m\u001b[0m\n\u001b[0m\u001b[1;32m      8\u001b[0m     \u001b[0;32mif\u001b[0m \u001b[0mclf\u001b[0m\u001b[0;34m.\u001b[0m\u001b[0mpredict\u001b[0m\u001b[0;34m(\u001b[0m\u001b[0;34m[\u001b[0m\u001b[0mtrain_x\u001b[0m\u001b[0;34m[\u001b[0m\u001b[0mi\u001b[0m\u001b[0;34m]\u001b[0m\u001b[0;34m]\u001b[0m\u001b[0;34m)\u001b[0m\u001b[0;34m[\u001b[0m\u001b[0;36m0\u001b[0m\u001b[0;34m]\u001b[0m \u001b[0;34m!=\u001b[0m \u001b[0mtrain_y\u001b[0m\u001b[0;34m[\u001b[0m\u001b[0mi\u001b[0m\u001b[0;34m]\u001b[0m\u001b[0;34m:\u001b[0m\u001b[0;34m\u001b[0m\u001b[0m\n\u001b[1;32m      9\u001b[0m         \u001b[0merror\u001b[0m \u001b[0;34m+=\u001b[0m \u001b[0;36m1\u001b[0m\u001b[0;34m\u001b[0m\u001b[0m\n",
      "\u001b[0;31mNameError\u001b[0m: name 'x' is not defined"
     ]
    }
   ],
   "source": [
    "from sklearn.svm import SVC\n",
    "\n",
    "clf = SVC(kernel='poly',degree=2,C=1.0)\n",
    "clf.fit(train_x,train_y)\n",
    "\n",
    "error = 0\n",
    "for i in range(len(train_x)):\n",
    "    if clf.predict([train_x[i]])[0] != train_y[i]:\n",
    "        error += 1\n",
    "print (\"Training error: \" + str((error+0.0)/len(train_x)))\n",
    "    \n",
    "error = 0\n",
    "for i in range(len(test_x)):\n",
    "    if clf.predict([test_x[i]])[0] != test_y[i]:\n",
    "        error += 1\n",
    "print (\"Test error: \" + str((error+0.0)/len(test_x)))"
   ]
  },
  {
   "cell_type": "code",
   "execution_count": 20,
   "metadata": {},
   "outputs": [
    {
     "name": "stdout",
     "output_type": "stream",
     "text": [
      "[ 476  423  984  989  876 1060  641  882 1186 1135]\n"
     ]
    }
   ],
   "source": [
    "print (clf.n_support_)"
   ]
  },
  {
   "cell_type": "code",
   "execution_count": 22,
   "metadata": {},
   "outputs": [
    {
     "name": "stdout",
     "output_type": "stream",
     "text": [
      "8652\n"
     ]
    }
   ],
   "source": [
    "sum = 0\n",
    "for i in range(len(clf.n_support_)):\n",
    "    sum += clf.n_support_[i]\n",
    "print (sum)"
   ]
  },
  {
   "cell_type": "code",
   "execution_count": null,
   "metadata": {
    "collapsed": true
   },
   "outputs": [],
   "source": []
  }
 ],
 "metadata": {
  "kernelspec": {
   "display_name": "Python 3",
   "language": "python",
   "name": "python3"
  },
  "language_info": {
   "codemirror_mode": {
    "name": "ipython",
    "version": 3
   },
   "file_extension": ".py",
   "mimetype": "text/x-python",
   "name": "python",
   "nbconvert_exporter": "python",
   "pygments_lexer": "ipython3",
   "version": "3.6.2"
  }
 },
 "nbformat": 4,
 "nbformat_minor": 2
}

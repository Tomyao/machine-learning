{
 "cells": [
  {
   "cell_type": "code",
   "execution_count": 266,
   "metadata": {},
   "outputs": [],
   "source": [
    "import math\n",
    "import random\n",
    "import numpy as np\n",
    "from sklearn.linear_model import LogisticRegression\n",
    "from sklearn.preprocessing import normalize"
   ]
  },
  {
   "cell_type": "code",
   "execution_count": 278,
   "metadata": {},
   "outputs": [],
   "source": [
    "x = []\n",
    "x_intercept = []\n",
    "y = []\n",
    "\n",
    "with open(\"wine.data\", \"r\") as filestream:\n",
    "    for line in filestream:\n",
    "        currentline = line.rstrip().split(\",\")\n",
    "        if int(currentline[0]) == 1 or int(currentline[0]) == 2:\n",
    "            if int(currentline[0]) == 1:\n",
    "                y.append(1)\n",
    "            else:\n",
    "                y.append(0)\n",
    "            temp = []\n",
    "            temp2 = []\n",
    "            for i in range(1, len(currentline)):\n",
    "                temp.append(float(currentline[i]))\n",
    "                temp2.append(float(currentline[i]))\n",
    "            x.append(temp)\n",
    "            temp2.append(1)\n",
    "            x_intercept.append(temp2)"
   ]
  },
  {
   "cell_type": "code",
   "execution_count": 279,
   "metadata": {
    "collapsed": true
   },
   "outputs": [],
   "source": [
    "# normalize the data\n",
    "x_norm = normalize(x)\n",
    "x_intercept_norm = normalize(x_intercept)"
   ]
  },
  {
   "cell_type": "code",
   "execution_count": 280,
   "metadata": {},
   "outputs": [],
   "source": [
    "def sigmoid(z):\n",
    "    return 1.0/(1 + math.exp(-z))\n",
    "\n",
    "def my_loss_func(mytheta, myx, myy):\n",
    "    returnval = 0\n",
    "    \n",
    "    for i in range(len(myx)):\n",
    "        weighted_sum = 0\n",
    "        for j in range(len(mytheta)):\n",
    "            weighted_sum += mytheta[j]*myx[i][j]\n",
    "        \n",
    "        p = sigmoid(weighted_sum)\n",
    "        \n",
    "        if myy[i]:\n",
    "            returnval += math.log(p)\n",
    "        else:\n",
    "            try:\n",
    "                returnval += math.log(1 - p)\n",
    "            except:\n",
    "                print('p = ' + str(p))\n",
    "                print('1 - p = ' + str(1 - p))\n",
    "                print('log(1 - p) = ' + math.log(1 - p))\n",
    "    \n",
    "    return -returnval"
   ]
  },
  {
   "cell_type": "code",
   "execution_count": 281,
   "metadata": {
    "collapsed": true
   },
   "outputs": [],
   "source": [
    "def sigmoid2(scores):\n",
    "    return 1 / (1 + np.exp(-scores))\n",
    "\n",
    "def neg_log_likelihood(features, target, weights):\n",
    "    scores = np.dot(features, weights)\n",
    "    ll = np.sum( target*scores - np.log(1 + np.exp(scores)) )\n",
    "    return -ll"
   ]
  },
  {
   "cell_type": "code",
   "execution_count": 339,
   "metadata": {},
   "outputs": [
    {
     "name": "stdout",
     "output_type": "stream",
     "text": [
      "0.613840674828\n"
     ]
    }
   ],
   "source": [
    "temp = 0\n",
    "mymodel = LogisticRegression(fit_intercept = False, C = 1e20)\n",
    "for i in range(10000):\n",
    "    mymodel.fit(x_norm, y)\n",
    "    temp += neg_log_likelihood(x_norm,y,mymodel.coef_[0])\n",
    "    #print (neg_log_likelihood(x_norm,y,mymodel.coef_[0]))\n",
    "    \n",
    "print (temp/10000)"
   ]
  },
  {
   "cell_type": "code",
   "execution_count": 333,
   "metadata": {},
   "outputs": [
    {
     "name": "stdout",
     "output_type": "stream",
     "text": [
      "90.1091334728\n",
      "[ -4359.18794465   3988.00661347  11575.54402613  -1737.78793499\n",
      "    -52.63411038  -2794.47510264   6268.44362295  -1165.96017023\n",
      "  -1598.21727083   2414.4679878   -8753.03829879    442.75865283\n",
      "     67.45919174]\n"
     ]
    }
   ],
   "source": [
    "print (neg_log_likelihood(x_intercept_norm,y,[0]*14))\n",
    "print (mymodel.coef_[0])"
   ]
  },
  {
   "cell_type": "code",
   "execution_count": 302,
   "metadata": {
    "collapsed": true
   },
   "outputs": [],
   "source": [
    "def coordinate_descent(myx, myy, threshold, israndom = False, add_intercept = False):\n",
    "    if add_intercept:\n",
    "        intercept = np.ones((myx.shape[0], 1))\n",
    "        features = np.hstack((intercept, myx))\n",
    "        \n",
    "    weights = np.zeros(myx.shape[1])\n",
    "    momentum = 0.9\n",
    "    momentum_tracker = np.zeros(myx.shape[1])\n",
    "    \n",
    "    timeline = []\n",
    "    \n",
    "    timestep = 0\n",
    "    \n",
    "    factor = 0.01\n",
    "    \n",
    "    print (\"Timestep\\t\\tLoss\")\n",
    "    \n",
    "    old_log_likelihood = 1e10\n",
    "    \n",
    "    while (True):\n",
    "        scores = np.dot(myx, weights)\n",
    "        predictions = sigmoid2(scores)\n",
    "        \n",
    "        # Print time step and log-likelihood once in a while\n",
    "        if timestep % 100000 == 0:\n",
    "            if abs(neg_log_likelihood(myx, myy, weights) - old_log_likelihood) <= threshold:\n",
    "                timeline.append([timestep,neg_log_likelihood(myx, myy, weights)])\n",
    "                print (str(timestep)+\"\\t\\t\"+str(neg_log_likelihood(myx, myy, weights)))\n",
    "                break\n",
    "            if neg_log_likelihood(myx, myy, weights) - old_log_likelihood > 0:\n",
    "                factor = factor*0.5\n",
    "            else:\n",
    "                factor = factor*1.1\n",
    "            \n",
    "            # Update old log likelihood\n",
    "            old_log_likelihood = neg_log_likelihood(myx, myy, weights)\n",
    "            timeline.append([timestep,old_log_likelihood])\n",
    "            if timestep % 1000000 == 0:\n",
    "                print (str(timestep)+\"\\t\\t\"+str(old_log_likelihood))\n",
    "        \n",
    "        # Calculate gradients\n",
    "        output_error_signal = myy - predictions\n",
    "        gradient = np.dot(myx.T, output_error_signal)\n",
    "        \n",
    "        index = None\n",
    "        tempgradient = np.absolute(gradient)\n",
    "        # If using random, just choose a random index for update\n",
    "        if israndom:\n",
    "            index = random.randint(0,len(gradient)-1)\n",
    "        else:\n",
    "            # Find index for largest gradient\n",
    "            index = np.argmax(tempgradient)\n",
    "        \n",
    "        # Update weight\n",
    "        #old = neg_log_likelihood(myx, myy, weights)\n",
    "        oldw = weights[index]\n",
    "        \n",
    "        temp = factor*gradient[index] + momentum*momentum_tracker[index]\n",
    "        momentum_tracker[index] = temp\n",
    "        \n",
    "        weights[index] = oldw + temp\n",
    "\n",
    "        #while neg_log_likelihood(myx, myy, weights) < old:\n",
    "        #    factor = factor*10\n",
    "        #    weights[index] = oldw + factor*gradient[index]\n",
    "            \n",
    "        #weights[index] = oldw + factor*0.1*gradient[index]\n",
    "        \n",
    "        # Update timestep\n",
    "        timestep += 1\n",
    "        \n",
    "    return timeline"
   ]
  },
  {
   "cell_type": "code",
   "execution_count": 303,
   "metadata": {},
   "outputs": [
    {
     "name": "stdout",
     "output_type": "stream",
     "text": [
      "Timestep\t\tLoss\n",
      "0\t\t90.1091334728\n",
      "1000000\t\t13.7194990457\n",
      "2000000\t\t10.9024750801\n",
      "3000000\t\t8.82785625556\n",
      "4000000\t\t6.73870485229\n",
      "5000000\t\t5.33709315612\n",
      "6000000\t\t4.64169701689\n",
      "7000000\t\t4.16767510855\n",
      "8000000\t\t3.78763149503\n"
     ]
    },
    {
     "name": "stderr",
     "output_type": "stream",
     "text": [
      "/Users/tliu/anaconda3/lib/python3.6/site-packages/ipykernel_launcher.py:2: RuntimeWarning: overflow encountered in exp\n",
      "  \n"
     ]
    },
    {
     "name": "stdout",
     "output_type": "stream",
     "text": [
      "9000000\t\t1472.30484149\n",
      "10000000\t\t3.45117283061\n",
      "11000000\t\t3.25475841586\n",
      "12000000\t\t3.02146120011\n",
      "13000000\t\t2.80690574109\n",
      "14000000\t\t2.61942858991\n",
      "15000000\t\t1662.64169525\n",
      "16000000\t\t2.32941199755\n",
      "17000000\t\t2.19209772217\n",
      "18000000\t\t2.06676559159\n",
      "19000000\t\t1.98842070097\n",
      "20000000\t\t1.8747265046\n",
      "21000000\t\t1698.53795429\n",
      "22000000\t\t1.69135465964\n",
      "23000000\t\t1.60111195119\n",
      "24000000\t\t1.5428286301\n",
      "25000000\t\t1.46993870734\n",
      "26000000\t\t1.44489782565\n",
      "27000000\t\t1.40152925163\n",
      "28000000\t\t1.33064173174\n",
      "29000000\t\t1380.70109852\n",
      "30000000\t\t1.23374143364\n",
      "31000000\t\t1.18194289801\n",
      "32000000\t\t1894.32843779\n",
      "33000000\t\t1.15723280004\n",
      "34000000\t\t1.11709081317\n",
      "35000000\t\t1047.66743548\n",
      "36000000\t\t1.06074092865\n",
      "37000000\t\t1.00806483381\n",
      "38000000\t\t2005.81391673\n",
      "39000000\t\t1430.54718317\n",
      "40000000\t\t0.906456369129\n",
      "41000000\t\t0.878539619545\n",
      "42000000\t\t0.840899159533\n",
      "43000000\t\t0.803779378796\n",
      "44000000\t\t0.786802929486\n",
      "45000000\t\t499.26676812\n",
      "46000000\t\t0.726113550232\n",
      "47000000\t\t0.693584107187\n",
      "48000000\t\t0.673741203103\n",
      "49000000\t\t0.641961131422\n",
      "50000000\t\t49110.142511\n",
      "51000000\t\t0.595031874217\n",
      "52000000\t\t6.75789669786\n",
      "53000000\t\t0.559584173297\n"
     ]
    },
    {
     "name": "stderr",
     "output_type": "stream",
     "text": [
      "/Users/tliu/anaconda3/lib/python3.6/site-packages/ipykernel_launcher.py:6: RuntimeWarning: overflow encountered in exp\n",
      "  \n"
     ]
    },
    {
     "name": "stdout",
     "output_type": "stream",
     "text": [
      "54000000\t\t0.535797121795\n",
      "55000000\t\t0.511403819932\n",
      "55700000\t\t0.510072828906\n"
     ]
    }
   ],
   "source": [
    "mytimeline1 = coordinate_descent(np.asarray(x_norm),np.asarray(y),0.001,add_intercept=False)"
   ]
  },
  {
   "cell_type": "code",
   "execution_count": 304,
   "metadata": {},
   "outputs": [
    {
     "name": "stdout",
     "output_type": "stream",
     "text": [
      "Timestep\t\tLoss\n",
      "0\t\t90.1091334728\n",
      "1000000\t\t16.3831032024\n",
      "2000000\t\t13.4011933597\n",
      "3000000\t\t10.7108328947\n",
      "4000000\t\t8.3431907361\n",
      "5000000\t\t6.37240786305\n",
      "6000000\t\t5.37290801283\n",
      "7000000\t\t4.74301952709\n",
      "8000000\t\t4.30849148109\n",
      "9000000\t\t4.24294545095\n",
      "10000000\t\t3.83127291766\n",
      "11000000\t\t3.57930542708\n",
      "12000000\t\t3.39721043787\n",
      "13000000\t\t3.1858886511\n",
      "14000000\t\t3.0329587499\n",
      "15000000\t\t3.20086494816\n",
      "16000000\t\t2.79620290871\n",
      "17000000\t\t2.61289301184\n",
      "18000000\t\t2.51187469148\n",
      "19000000\t\t2.40075526188\n",
      "20000000\t\t2.43601389373\n",
      "21000000\t\t2.23230117229\n",
      "22000000\t\t2.15304216201\n",
      "23000000\t\t2.05454804791\n",
      "24000000\t\t1.97954608594\n",
      "25000000\t\t1.89202947782\n",
      "26000000\t\t1.8648592975\n",
      "27000000\t\t1.76486724832\n",
      "28000000\t\t1.70218695826\n"
     ]
    },
    {
     "name": "stderr",
     "output_type": "stream",
     "text": [
      "/Users/tliu/anaconda3/lib/python3.6/site-packages/ipykernel_launcher.py:2: RuntimeWarning: overflow encountered in exp\n",
      "  \n"
     ]
    },
    {
     "name": "stdout",
     "output_type": "stream",
     "text": [
      "29000000\t\t1.6396130831\n",
      "30000000\t\t1.5463027154\n",
      "31000000\t\t5.02206123872\n",
      "32000000\t\t1.43106792739\n",
      "33000000\t\t1.36975783104\n",
      "34000000\t\t1.34394807973\n",
      "35000000\t\t1.26414227138\n",
      "36000000\t\t1.18339992944\n",
      "37000000\t\t7.78410372705\n",
      "38000000\t\t1.33735116552\n",
      "39000000\t\t1.1591018581\n",
      "40000000\t\t1.10215847056\n",
      "41000000\t\t0.958519869106\n",
      "42000000\t\t0.92421939806\n",
      "43000000\t\t9.93833880604\n",
      "44000000\t\t1.04812229487\n",
      "45000000\t\t0.939400476711\n",
      "46000000\t\t0.828566321684\n",
      "47000000\t\t0.859703358291\n",
      "48000000\t\t0.716200792116\n",
      "49000000\t\t93.7977460416\n",
      "50000000\t\t38.7491803925\n",
      "51000000\t\t1.02982477219\n",
      "52000000\t\t0.73871800451\n",
      "53000000\t\t0.584645219366\n",
      "54000000\t\t0.965524920728\n",
      "55000000\t\t0.455496521784\n",
      "56000000\t\t106.340321767\n",
      "57000000\t\t1.5188689708\n",
      "58000000\t\t0.397527417637\n",
      "59000000\t\t86.5959545742\n",
      "60000000\t\t0.643219691915\n",
      "61000000\t\t0.322441966894\n",
      "62000000\t\t0.798761325262\n",
      "63000000\t\t0.248895287685\n",
      "64000000\t\t1.37249209281\n",
      "65000000\t\t0.39227551189\n",
      "66000000\t\t25.3055899194\n",
      "67000000\t\t0.594120597801\n",
      "68000000\t\t0.199646462038\n",
      "69000000\t\t4.81960112268\n",
      "70000000\t\t0.591977583779\n",
      "71000000\t\t0.270951797939\n",
      "72000000\t\t2.91308649616\n",
      "73000000\t\t0.435472662058\n",
      "74000000\t\t0.177112862636\n",
      "75000000\t\t5.2244489328\n",
      "76000000\t\t0.592245607075\n",
      "77000000\t\t0.231832337529\n",
      "78000000\t\t0.0931978583126\n"
     ]
    },
    {
     "name": "stderr",
     "output_type": "stream",
     "text": [
      "/Users/tliu/anaconda3/lib/python3.6/site-packages/ipykernel_launcher.py:6: RuntimeWarning: overflow encountered in exp\n",
      "  \n"
     ]
    },
    {
     "name": "stdout",
     "output_type": "stream",
     "text": [
      "79000000\t\t38.0104792101\n",
      "80000000\t\t3.82343703269\n",
      "81000000\t\t1.08548204155\n",
      "82000000\t\t0.353817383102\n",
      "83000000\t\t0.161004586461\n"
     ]
    },
    {
     "ename": "KeyboardInterrupt",
     "evalue": "",
     "output_type": "error",
     "traceback": [
      "\u001b[0;31m---------------------------------------------------------------------------\u001b[0m",
      "\u001b[0;31mKeyboardInterrupt\u001b[0m                         Traceback (most recent call last)",
      "\u001b[0;32m<ipython-input-304-608ed7ad22d2>\u001b[0m in \u001b[0;36m<module>\u001b[0;34m()\u001b[0m\n\u001b[0;32m----> 1\u001b[0;31m \u001b[0mmytimeline2\u001b[0m \u001b[0;34m=\u001b[0m \u001b[0mcoordinate_descent\u001b[0m\u001b[0;34m(\u001b[0m\u001b[0mnp\u001b[0m\u001b[0;34m.\u001b[0m\u001b[0masarray\u001b[0m\u001b[0;34m(\u001b[0m\u001b[0mx_norm\u001b[0m\u001b[0;34m)\u001b[0m\u001b[0;34m,\u001b[0m\u001b[0mnp\u001b[0m\u001b[0;34m.\u001b[0m\u001b[0masarray\u001b[0m\u001b[0;34m(\u001b[0m\u001b[0my\u001b[0m\u001b[0;34m)\u001b[0m\u001b[0;34m,\u001b[0m\u001b[0;36m0.001\u001b[0m\u001b[0;34m,\u001b[0m\u001b[0misrandom\u001b[0m\u001b[0;34m=\u001b[0m\u001b[0;32mTrue\u001b[0m\u001b[0;34m,\u001b[0m\u001b[0madd_intercept\u001b[0m\u001b[0;34m=\u001b[0m\u001b[0;32mFalse\u001b[0m\u001b[0;34m)\u001b[0m\u001b[0;34m\u001b[0m\u001b[0m\n\u001b[0m",
      "\u001b[0;32m<ipython-input-302-e9fa7b626596>\u001b[0m in \u001b[0;36mcoordinate_descent\u001b[0;34m(myx, myy, threshold, israndom, add_intercept)\u001b[0m\n\u001b[1;32m     41\u001b[0m         \u001b[0;31m# Calculate gradients\u001b[0m\u001b[0;34m\u001b[0m\u001b[0;34m\u001b[0m\u001b[0m\n\u001b[1;32m     42\u001b[0m         \u001b[0moutput_error_signal\u001b[0m \u001b[0;34m=\u001b[0m \u001b[0mmyy\u001b[0m \u001b[0;34m-\u001b[0m \u001b[0mpredictions\u001b[0m\u001b[0;34m\u001b[0m\u001b[0m\n\u001b[0;32m---> 43\u001b[0;31m         \u001b[0mgradient\u001b[0m \u001b[0;34m=\u001b[0m \u001b[0mnp\u001b[0m\u001b[0;34m.\u001b[0m\u001b[0mdot\u001b[0m\u001b[0;34m(\u001b[0m\u001b[0mmyx\u001b[0m\u001b[0;34m.\u001b[0m\u001b[0mT\u001b[0m\u001b[0;34m,\u001b[0m \u001b[0moutput_error_signal\u001b[0m\u001b[0;34m)\u001b[0m\u001b[0;34m\u001b[0m\u001b[0m\n\u001b[0m\u001b[1;32m     44\u001b[0m \u001b[0;34m\u001b[0m\u001b[0m\n\u001b[1;32m     45\u001b[0m         \u001b[0mindex\u001b[0m \u001b[0;34m=\u001b[0m \u001b[0;32mNone\u001b[0m\u001b[0;34m\u001b[0m\u001b[0m\n",
      "\u001b[0;31mKeyboardInterrupt\u001b[0m: "
     ]
    }
   ],
   "source": [
    "mytimeline2 = coordinate_descent(np.asarray(x_norm),np.asarray(y),0.001,israndom=True,add_intercept=False)"
   ]
  },
  {
   "cell_type": "code",
   "execution_count": null,
   "metadata": {
    "collapsed": true
   },
   "outputs": [],
   "source": []
  }
 ],
 "metadata": {
  "kernelspec": {
   "display_name": "Python 3",
   "language": "python",
   "name": "python3"
  },
  "language_info": {
   "codemirror_mode": {
    "name": "ipython",
    "version": 3
   },
   "file_extension": ".py",
   "mimetype": "text/x-python",
   "name": "python",
   "nbconvert_exporter": "python",
   "pygments_lexer": "ipython3",
   "version": "3.6.2"
  }
 },
 "nbformat": 4,
 "nbformat_minor": 2
}

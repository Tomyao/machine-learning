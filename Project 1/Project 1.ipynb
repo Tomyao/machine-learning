{
 "cells": [
  {
   "cell_type": "code",
   "execution_count": 1,
   "metadata": {
    "collapsed": true
   },
   "outputs": [],
   "source": [
    "from sklearn.neighbors import KNeighborsClassifier\n",
    "from sklearn.decomposition import PCA\n",
    "from sklearn.preprocessing import normalize\n",
    "import numpy as np"
   ]
  },
  {
   "cell_type": "code",
   "execution_count": 2,
   "metadata": {
    "collapsed": true
   },
   "outputs": [],
   "source": [
    "def get_data_and_labels(images_filename, labels_filename):\n",
    "    print(\"Opening files ...\")\n",
    "    images_file = open(images_filename, \"rb\")\n",
    "    labels_file = open(labels_filename, \"rb\")\n",
    "\n",
    "    try:\n",
    "        print(\"Reading files ...\")\n",
    "        images_file.read(4)\n",
    "        num_of_items = int.from_bytes(images_file.read(4), byteorder=\"big\")\n",
    "        num_of_rows = int.from_bytes(images_file.read(4), byteorder=\"big\")\n",
    "        num_of_colums = int.from_bytes(images_file.read(4), byteorder=\"big\")\n",
    "        labels_file.read(8)\n",
    "\n",
    "        num_of_image_values = num_of_rows * num_of_colums\n",
    "        data = [[None for x in range(num_of_image_values)]\n",
    "                for y in range(num_of_items)]\n",
    "        labels = []\n",
    "        for item in range(num_of_items):\n",
    "            if item % 10000 == 0:\n",
    "                print(\"Current image number: %7d\" % item)\n",
    "            for value in range(num_of_image_values):\n",
    "                data[item][value] = int.from_bytes(images_file.read(1),\n",
    "                                                   byteorder=\"big\")\n",
    "            labels.append(int.from_bytes(labels_file.read(1), byteorder=\"big\"))\n",
    "        return data, labels\n",
    "    finally:\n",
    "        images_file.close()\n",
    "        labels_file.close()\n",
    "        print(\"Files closed.\")\n"
   ]
  },
  {
   "cell_type": "code",
   "execution_count": 3,
   "metadata": {},
   "outputs": [
    {
     "name": "stdout",
     "output_type": "stream",
     "text": [
      "Opening files ...\n",
      "Reading files ...\n",
      "Current image number:       0\n",
      "Current image number:   10000\n",
      "Current image number:   20000\n",
      "Current image number:   30000\n",
      "Current image number:   40000\n",
      "Current image number:   50000\n",
      "Files closed.\n"
     ]
    }
   ],
   "source": [
    "train_x, train_y  = get_data_and_labels(\"mnist_train_images\", \"mnist_train_labels\")"
   ]
  },
  {
   "cell_type": "code",
   "execution_count": 4,
   "metadata": {},
   "outputs": [
    {
     "name": "stdout",
     "output_type": "stream",
     "text": [
      "Opening files ...\n",
      "Reading files ...\n",
      "Current image number:       0\n",
      "Files closed.\n"
     ]
    }
   ],
   "source": [
    "test_x, test_y  = get_data_and_labels(\"mnist_test_images\", \"mnist_test_labels\")"
   ]
  },
  {
   "cell_type": "code",
   "execution_count": 9,
   "metadata": {},
   "outputs": [],
   "source": [
    "# perform normalization on entire training set\n",
    "normal_train_x = normalize(train_x)"
   ]
  },
  {
   "cell_type": "code",
   "execution_count": 23,
   "metadata": {
    "collapsed": true
   },
   "outputs": [],
   "source": [
    "import random\n",
    "\n",
    "def get_samples_random(x, y, n):\n",
    "    my_indices = random.sample(range(len(x)), n)\n",
    "    \n",
    "    random_x = [0]*n\n",
    "    random_y = [0]*n\n",
    "    \n",
    "    for i in range(n):\n",
    "        random_x[i] = x[my_indices[i]]\n",
    "        random_y[i] = y[my_indices[i]]\n",
    "    \n",
    "    return random_x, random_y"
   ]
  },
  {
   "cell_type": "code",
   "execution_count": 24,
   "metadata": {},
   "outputs": [],
   "source": [
    "def my_prototypes(x_norm, y, n):\n",
    "    my_indices = random.sample(range(len(x_norm)), n)\n",
    "    \n",
    "    proto_x = [0]*n\n",
    "    proto_y = [0]*n\n",
    "    \n",
    "    for i in range(n):\n",
    "        proto_x[i] = x_norm[my_indices[i]]\n",
    "        proto_y[i] = y[my_indices[i]]\n",
    "    \n",
    "    return proto_x, proto_y"
   ]
  },
  {
   "cell_type": "code",
   "execution_count": 25,
   "metadata": {
    "collapsed": true
   },
   "outputs": [],
   "source": [
    "def my_pipeline(num_samples):\n",
    "    # number of runs to do\n",
    "    num_runs = 10\n",
    "    \n",
    "    my_1nn = KNeighborsClassifier(n_neighbors=1)\n",
    "    \n",
    "    # normalized test set for use with prototype\n",
    "    test_x_norm = normalize(test_x)\n",
    "    \n",
    "    for i in range(num_runs):\n",
    "        # pick num_samples randomly from training set\n",
    "        my_x, my_y = get_samples_random(train_x, train_y, num_samples)\n",
    "        # put them into a 1-NN classifier    \n",
    "        my_1nn.fit(my_x, my_y)\n",
    "        # get test error rate\n",
    "        my_error = 0.0\n",
    "        my_pred = my_1nn.predict(test_x)\n",
    "        for j in range(len(test_x)):\n",
    "            if my_pred[j] != test_y[j]:\n",
    "                my_error += 1\n",
    "        my_error1 = my_error / len(test_x)\n",
    "        \n",
    "        # get prototypes\n",
    "        my_x, my_y = my_prototypes(normal_train_x, train_y, num_samples)\n",
    "        # put them into a 1-NN classifier    \n",
    "        my_1nn.fit(my_x, my_y)\n",
    "        # get test error rate\n",
    "        my_error = 0.0\n",
    "        my_pred = my_1nn.predict(test_x_norm)\n",
    "        for j in range(len(test_x)):\n",
    "            if my_pred[j] != test_y[j]:\n",
    "                my_error += 1\n",
    "        my_error2 = my_error / len(test_x)\n",
    "        \n",
    "        # print results\n",
    "        print (\"Run \" + str(i+1) + \" errors: \" + str(my_error1) + \" \" + str(my_error2))\n",
    "    "
   ]
  },
  {
   "cell_type": "code",
   "execution_count": 26,
   "metadata": {},
   "outputs": [
    {
     "name": "stdout",
     "output_type": "stream",
     "text": [
      "Run 1 errors: 0.1179 0.095\n",
      "Run 2 errors: 0.1103 0.0998\n",
      "Run 3 errors: 0.1174 0.1014\n",
      "Run 4 errors: 0.1235 0.0954\n",
      "Run 5 errors: 0.1093 0.1036\n",
      "Run 6 errors: 0.1222 0.1005\n",
      "Run 7 errors: 0.1144 0.1039\n",
      "Run 8 errors: 0.1117 0.0948\n",
      "Run 9 errors: 0.115 0.1012\n",
      "Run 10 errors: 0.1206 0.1034\n"
     ]
    }
   ],
   "source": [
    "my_pipeline(1000)"
   ]
  },
  {
   "cell_type": "code",
   "execution_count": 28,
   "metadata": {},
   "outputs": [
    {
     "name": "stdout",
     "output_type": "stream",
     "text": [
      "Run 1 errors: 0.0633 0.0572\n",
      "Run 2 errors: 0.0642 0.0562\n",
      "Run 3 errors: 0.0629 0.0557\n",
      "Run 4 errors: 0.0663 0.0556\n",
      "Run 5 errors: 0.0635 0.0548\n",
      "Run 6 errors: 0.0654 0.0525\n",
      "Run 7 errors: 0.0635 0.0524\n",
      "Run 8 errors: 0.0638 0.0578\n",
      "Run 9 errors: 0.0648 0.0578\n",
      "Run 10 errors: 0.0602 0.0544\n"
     ]
    }
   ],
   "source": [
    "my_pipeline(5000)"
   ]
  },
  {
   "cell_type": "code",
   "execution_count": 27,
   "metadata": {},
   "outputs": [
    {
     "name": "stdout",
     "output_type": "stream",
     "text": [
      "Run 1 errors: 0.0528 0.0461\n",
      "Run 2 errors: 0.0513 0.0467\n",
      "Run 3 errors: 0.0495 0.0445\n",
      "Run 4 errors: 0.0489 0.0461\n",
      "Run 5 errors: 0.0498 0.0471\n",
      "Run 6 errors: 0.0505 0.045\n",
      "Run 7 errors: 0.0523 0.0466\n",
      "Run 8 errors: 0.0532 0.0468\n",
      "Run 9 errors: 0.05 0.044\n",
      "Run 10 errors: 0.0518 0.0466\n"
     ]
    }
   ],
   "source": [
    "my_pipeline(10000)"
   ]
  },
  {
   "cell_type": "code",
   "execution_count": null,
   "metadata": {
    "collapsed": true
   },
   "outputs": [],
   "source": []
  }
 ],
 "metadata": {
  "kernelspec": {
   "display_name": "Python 3",
   "language": "python",
   "name": "python3"
  },
  "language_info": {
   "codemirror_mode": {
    "name": "ipython",
    "version": 3
   },
   "file_extension": ".py",
   "mimetype": "text/x-python",
   "name": "python",
   "nbconvert_exporter": "python",
   "pygments_lexer": "ipython3",
   "version": "3.6.2"
  }
 },
 "nbformat": 4,
 "nbformat_minor": 2
}

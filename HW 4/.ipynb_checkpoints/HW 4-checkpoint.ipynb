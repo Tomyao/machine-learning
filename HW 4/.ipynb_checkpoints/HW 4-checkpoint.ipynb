{
 "cells": [
  {
   "cell_type": "code",
   "execution_count": 3,
   "metadata": {
    "collapsed": true
   },
   "outputs": [],
   "source": [
    "from sklearn import linear_model\n",
    "\n",
    "myreg = linear_model.LinearRegression()"
   ]
  },
  {
   "cell_type": "code",
   "execution_count": 4,
   "metadata": {
    "collapsed": true
   },
   "outputs": [],
   "source": [
    "x = []\n",
    "y = []\n",
    "\n",
    "with open(\"mystery.dat\", \"r\") as filestream:\n",
    "    for line in filestream:\n",
    "        currentline = line.rstrip().split(\",\")\n",
    "        temp = []\n",
    "        for i in range(len(currentline) - 1):\n",
    "            temp.append(float(currentline[i]))\n",
    "        x.append(temp)\n",
    "        y.append(float(currentline[-1]))"
   ]
  },
  {
   "cell_type": "code",
   "execution_count": 5,
   "metadata": {
    "collapsed": true
   },
   "outputs": [],
   "source": [
    "def reducex(myx,myi):\n",
    "\n",
    "    retx = []\n",
    "    \n",
    "    for i in range(len(myx)):\n",
    "        temp = []\n",
    "        for j in range(len(myi)):\n",
    "            index = myi[j]\n",
    "            temp.append(myx[i][index])\n",
    "        retx.append(temp)\n",
    "    \n",
    "    return retx"
   ]
  },
  {
   "cell_type": "code",
   "execution_count": 6,
   "metadata": {
    "collapsed": true
   },
   "outputs": [],
   "source": [
    "from sklearn.metrics import mean_squared_error\n",
    "\n",
    "def geterror(myx,myc):\n",
    "\n",
    "    y_pred = []\n",
    "\n",
    "    for i in range(len(myx)):\n",
    "        pred = 0\n",
    "        for j in range(len(myc)):\n",
    "            pred += myc[j]*myx[i][j]\n",
    "        y_pred.append(pred)\n",
    "    \n",
    "    print (mean_squared_error(y, y_pred))"
   ]
  },
  {
   "cell_type": "code",
   "execution_count": 7,
   "metadata": {
    "collapsed": true
   },
   "outputs": [],
   "source": [
    "indexmap = list(range(100))\n",
    "\n",
    "redx = reducex(x,indexmap)\n",
    "\n",
    "while len(indexmap) > 10:\n",
    "    myreg.fit(redx,y)\n",
    "    mycoef = myreg.coef_\n",
    "    #find index of smallest coef\n",
    "    coefabs = [abs(c) for c in mycoef]\n",
    "    smallestindex = coefabs.index(min(coefabs))\n",
    "    # delete from indexmap\n",
    "    del indexmap[smallestindex]\n",
    "    # recreate redx\n",
    "    redx = reducex(x,indexmap)"
   ]
  },
  {
   "cell_type": "code",
   "execution_count": 8,
   "metadata": {},
   "outputs": [
    {
     "name": "stdout",
     "output_type": "stream",
     "text": [
      "[1, 4, 6, 7, 18, 48, 69, 80, 83, 91]\n"
     ]
    }
   ],
   "source": [
    "print (indexmap)"
   ]
  },
  {
   "cell_type": "code",
   "execution_count": 25,
   "metadata": {},
   "outputs": [
    {
     "name": "stdout",
     "output_type": "stream",
     "text": [
      "3.44393536299\n",
      "Max square error: 28.4872252345\n"
     ]
    }
   ],
   "source": [
    "testx = reducex(x,indexmap)\n",
    "\n",
    "myreg.fit(testx,y)\n",
    "mycoef = myreg.coef_\n",
    "\n",
    "geterror(testx,mycoef)\n",
    "getmaxerror(testx,mycoef)"
   ]
  },
  {
   "cell_type": "code",
   "execution_count": 26,
   "metadata": {},
   "outputs": [
    {
     "name": "stdout",
     "output_type": "stream",
     "text": [
      "[ 0.          0.10299376  0.00652474  0.          0.2893491  -0.\n",
      "  0.29522954 -0.         -0.         -0.          0.42515876 -0.\n",
      "  0.25173601  0.         -0.         -0.          0.56205934 -0.\n",
      "  0.39238243  0.          0.         -0.          0.40961863  0.         -0.\n",
      " -0.         -0.          0.          0.          0.         -0.          0.\n",
      "  0.         -0.         -0.         -0.         -0.          0.         -0.\n",
      "  0.         -0.          0.         -0.         -0.          0.         -0.\n",
      " -0.         -0.          0.          0.         -0.          0.          0.\n",
      "  0.         -0.          0.         -0.         -0.          0.          0.\n",
      "  0.          0.          0.         -0.         -0.          0.         -0.\n",
      " -0.          0.          0.          0.          0.          0.          0.\n",
      "  0.          0.         -0.          0.         -0.         -0.\n",
      "  0.09526577 -0.         -0.         -0.         -0.         -0.         -0.\n",
      "  0.         -0.         -0.          0.          0.          0.          0.\n",
      "  0.          0.         -0.          0.         -0.          0.        ]\n"
     ]
    }
   ],
   "source": [
    "clf = linear_model.Lasso(0.59)\n",
    "clf.fit(x,y)\n",
    "\n",
    "print (clf.coef_)"
   ]
  },
  {
   "cell_type": "code",
   "execution_count": 27,
   "metadata": {
    "collapsed": true
   },
   "outputs": [],
   "source": [
    "import numpy as np\n",
    "\n",
    "lassocoef = clf.coef_.tolist()"
   ]
  },
  {
   "cell_type": "code",
   "execution_count": 28,
   "metadata": {},
   "outputs": [
    {
     "name": "stdout",
     "output_type": "stream",
     "text": [
      "[1, 2, 4, 6, 10, 12, 16, 18, 22, 80]\n"
     ]
    }
   ],
   "source": [
    "lassoindices = []\n",
    "\n",
    "for i in range(0,len(lassocoef)):\n",
    "    if lassocoef[i] > 0.0000001:\n",
    "        lassoindices.append(lassocoef.index(lassocoef[i]))\n",
    "        \n",
    "print (lassoindices)"
   ]
  },
  {
   "cell_type": "code",
   "execution_count": 29,
   "metadata": {},
   "outputs": [
    {
     "name": "stdout",
     "output_type": "stream",
     "text": [
      "1.43149432943\n",
      "Max square error: 8.34164976699\n"
     ]
    }
   ],
   "source": [
    "testx = reducex(x,lassoindices)\n",
    "\n",
    "myreg.fit(testx,y)\n",
    "mycoef = myreg.coef_\n",
    "\n",
    "geterror(testx,mycoef)\n",
    "getmaxerror(testx,mycoef)"
   ]
  },
  {
   "cell_type": "code",
   "execution_count": 30,
   "metadata": {},
   "outputs": [
    {
     "name": "stdout",
     "output_type": "stream",
     "text": [
      "[-0.04064025  0.48634559  0.35095456  0.08542489  0.59149625 -0.09555623\n",
      "  0.63414242 -0.31918994  0.00821604 -0.13249204  0.61009925 -0.0321365\n",
      "  0.48547854  0.04869623 -0.2428147  -0.12970108  0.60296721 -0.09755901\n",
      "  0.61483354  0.12218537  0.00975539  0.05886792  0.62855206  0.03091249\n",
      " -0.09846743 -0.12875287 -0.06134172  0.00607363  0.39113279  0.0888313\n",
      " -0.06494928  0.17831574  0.10789088  0.05442685 -0.08394604  0.06114458\n",
      " -0.06568685  0.0013245  -0.13726761  0.12750238 -0.07436558  0.12189496\n",
      "  0.04700191 -0.08293385  0.04980026  0.05709966 -0.10577054 -0.03543105\n",
      "  0.25507437  0.11751882 -0.08927629  0.07720713  0.07938533  0.0465209\n",
      "  0.00398107  0.22906445  0.08714009 -0.27833349 -0.0257708   0.04583821\n",
      "  0.10379895  0.10223634 -0.0686353   0.09180588 -0.04300134  0.04184769\n",
      " -0.02023624 -0.18998414  0.17111343  0.10184517 -0.06202052  0.06220927\n",
      "  0.18848516  0.1034529  -0.00565265 -0.0248045  -0.09361854  0.12785868\n",
      " -0.03545283 -0.04683696  0.26884046 -0.09243845  0.01555401  0.01671375\n",
      " -0.06875077 -0.21659207  0.02850737  0.06955145 -0.11484797 -0.19931899\n",
      "  0.04449307  0.19597692  0.03753701 -0.06132381  0.05990655  0.03418247\n",
      "  0.06931067  0.0775567  -0.12499198  0.13330156]\n"
     ]
    }
   ],
   "source": [
    "clf2 = linear_model.Ridge(alpha = 30)\n",
    "clf2.fit(x, y)\n",
    "\n",
    "print(clf2.coef_)"
   ]
  },
  {
   "cell_type": "code",
   "execution_count": 31,
   "metadata": {
    "collapsed": true
   },
   "outputs": [],
   "source": [
    "coefabs = [abs(c) for c in clf2.coef_]"
   ]
  },
  {
   "cell_type": "code",
   "execution_count": 32,
   "metadata": {
    "collapsed": true
   },
   "outputs": [],
   "source": [
    "ridgeindices = sorted(range(len(coefabs)), key=lambda i: coefabs[i])[-10:]"
   ]
  },
  {
   "cell_type": "code",
   "execution_count": 33,
   "metadata": {},
   "outputs": [
    {
     "name": "stdout",
     "output_type": "stream",
     "text": [
      "[1, 2, 4, 6, 10, 12, 16, 18, 22, 28]\n"
     ]
    }
   ],
   "source": [
    "print (sorted(ridgeindices))"
   ]
  },
  {
   "cell_type": "code",
   "execution_count": 34,
   "metadata": {},
   "outputs": [
    {
     "name": "stdout",
     "output_type": "stream",
     "text": [
      "0.929037765501\n"
     ]
    }
   ],
   "source": [
    "testx = reducex(x,ridgeindices)\n",
    "\n",
    "myreg.fit(testx,y)\n",
    "mycoef = myreg.coef_\n",
    "\n",
    "geterror(testx,mycoef)"
   ]
  },
  {
   "cell_type": "code",
   "execution_count": 35,
   "metadata": {},
   "outputs": [
    {
     "name": "stdout",
     "output_type": "stream",
     "text": [
      "0.929037765501\n",
      "Max square error: 5.51669835293\n"
     ]
    }
   ],
   "source": [
    "guessindices = [1,2,4,6,10,12,16,18,22,28]\n",
    "\n",
    "testx = reducex(x,guessindices)\n",
    "\n",
    "myreg.fit(testx,y)\n",
    "mycoef = myreg.coef_\n",
    "\n",
    "geterror(testx,mycoef)\n",
    "getmaxerror(testx,mycoef)"
   ]
  },
  {
   "cell_type": "code",
   "execution_count": 20,
   "metadata": {},
   "outputs": [
    {
     "name": "stdout",
     "output_type": "stream",
     "text": [
      "[2, 3, 5, 7, 11, 13, 17, 19, 23, 29]\n"
     ]
    }
   ],
   "source": [
    "print ([a+1 for a in guessindices])"
   ]
  },
  {
   "cell_type": "code",
   "execution_count": 22,
   "metadata": {
    "collapsed": true
   },
   "outputs": [],
   "source": [
    "def getmaxerror(myx,myc):\n",
    "\n",
    "    y_pred = []\n",
    "\n",
    "    for i in range(len(myx)):\n",
    "        pred = 0\n",
    "        for j in range(len(myc)):\n",
    "            pred += myc[j]*myx[i][j]\n",
    "        y_pred.append(pred)\n",
    "    \n",
    "    \n",
    "    mymax = 0\n",
    "    \n",
    "    for i in range(len(y)):\n",
    "        temperr = (y[i] - y_pred[i])**2\n",
    "        if temperr > mymax:\n",
    "            mymax = temperr\n",
    "            \n",
    "    print (\"Max square error: \" + str(mymax))"
   ]
  },
  {
   "cell_type": "code",
   "execution_count": null,
   "metadata": {
    "collapsed": true
   },
   "outputs": [],
   "source": []
  }
 ],
 "metadata": {
  "kernelspec": {
   "display_name": "Python 3",
   "language": "python",
   "name": "python3"
  },
  "language_info": {
   "codemirror_mode": {
    "name": "ipython",
    "version": 3
   },
   "file_extension": ".py",
   "mimetype": "text/x-python",
   "name": "python",
   "nbconvert_exporter": "python",
   "pygments_lexer": "ipython3",
   "version": "3.6.2"
  }
 },
 "nbformat": 4,
 "nbformat_minor": 2
}

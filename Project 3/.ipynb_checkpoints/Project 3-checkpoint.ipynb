{
 "cells": [
  {
   "cell_type": "code",
   "execution_count": 14,
   "metadata": {},
   "outputs": [
    {
     "name": "stdout",
     "output_type": "stream",
     "text": [
      "showing info https://raw.githubusercontent.com/nltk/nltk_data/gh-pages/index.xml\n"
     ]
    },
    {
     "data": {
      "text/plain": [
       "True"
      ]
     },
     "execution_count": 14,
     "metadata": {},
     "output_type": "execute_result"
    }
   ],
   "source": [
    "import nltk\n",
    "nltk.download()"
   ]
  },
  {
   "cell_type": "code",
   "execution_count": 2,
   "metadata": {
    "collapsed": true
   },
   "outputs": [],
   "source": [
    "from nltk.corpus import brown"
   ]
  },
  {
   "cell_type": "code",
   "execution_count": 3,
   "metadata": {},
   "outputs": [],
   "source": [
    "mywords = brown.words()"
   ]
  },
  {
   "cell_type": "code",
   "execution_count": 17,
   "metadata": {
    "collapsed": true
   },
   "outputs": [],
   "source": [
    "# convert to lowercase\n",
    "mywordslower = [w.lower() for w in mywords]"
   ]
  },
  {
   "cell_type": "code",
   "execution_count": 20,
   "metadata": {},
   "outputs": [],
   "source": [
    "from nltk.corpus import stopwords\n",
    "\n",
    "mystopwords = {}\n",
    "for stopword in stopwords.words('english'):\n",
    "    mystopwords[stopword] = 0\n",
    "\n",
    "# remove stopwords\n",
    "mywordslower_nostop = [w for w in mywordslower if w not in mystopwords]"
   ]
  },
  {
   "cell_type": "code",
   "execution_count": 30,
   "metadata": {
    "collapsed": true
   },
   "outputs": [],
   "source": [
    "import re, string\n",
    "pattern = re.compile(\"[\\d{}]+$\".format(re.escape(string.punctuation)))\n",
    "\n",
    "# remove punctuation and numbers\n",
    "mywordslower_nostop_nopunc = [w for w in mywordslower_nostop if not pattern.match(w)]"
   ]
  },
  {
   "cell_type": "code",
   "execution_count": 33,
   "metadata": {},
   "outputs": [
    {
     "name": "stdout",
     "output_type": "stream",
     "text": [
      "530090\n"
     ]
    }
   ],
   "source": [
    "print (len(mywordslower_nostop_nopunc))\n",
    "\n",
    "# Successful cleaning so change name to something shorter\n",
    "mycorpus = mywordslower_nostop_nopunc"
   ]
  },
  {
   "cell_type": "code",
   "execution_count": 34,
   "metadata": {
    "collapsed": true
   },
   "outputs": [],
   "source": [
    "word_indices = {}\n",
    "\n",
    "for i in range(len(mycorpus)):\n",
    "    currword = mycorpus[i]\n",
    "    if currword not in word_indices:\n",
    "        word_indices[currword] = [i]\n",
    "    else:\n",
    "        word_indices[currword].append(i)"
   ]
  },
  {
   "cell_type": "code",
   "execution_count": 40,
   "metadata": {},
   "outputs": [],
   "source": [
    "word_counts = []\n",
    "for word in word_indices:\n",
    "    word_counts.append([word,len(word_indices[word])])\n",
    "    \n",
    "# sort by number of occurrences\n",
    "word_counts.sort(key=lambda x: x[1], reverse=True)"
   ]
  },
  {
   "cell_type": "code",
   "execution_count": 47,
   "metadata": {},
   "outputs": [
    {
     "name": "stdout",
     "output_type": "stream",
     "text": [
      "5000\n",
      "1000\n"
     ]
    }
   ],
   "source": [
    "V = []\n",
    "C = []\n",
    "\n",
    "for i in range(5000):\n",
    "    currword = word_counts[i][0]\n",
    "    if i < 1000:\n",
    "        C.append(currword)\n",
    "    V.append(currword)\n",
    "    \n",
    "print (len(V))\n",
    "print (len(C))"
   ]
  },
  {
   "cell_type": "code",
   "execution_count": 349,
   "metadata": {},
   "outputs": [],
   "source": [
    "# calculating n(w,c) where there are V entries of dictionaries of size C\n",
    "n = []\n",
    "\n",
    "for i in range(len(V)):\n",
    "    temp = {}\n",
    "    for j in range(len(C)):\n",
    "        temp[C[j]] = 0\n",
    "    n.append(temp)\n",
    "    \n",
    "for i in range(len(V)):\n",
    "    w = V[i]\n",
    "    for index in word_indices[w]:\n",
    "        if (index - 2) >= 0:\n",
    "            if mycorpus[index - 2] in n[i]:\n",
    "                n[i][mycorpus[index - 2]] += 1\n",
    "        if (index - 1) >= 0:\n",
    "            if mycorpus[index - 1] in n[i]:\n",
    "                n[i][mycorpus[index - 1]] += 1\n",
    "        if (index + 1) < len(mycorpus):\n",
    "            if mycorpus[index + 1] in n[i]:\n",
    "                n[i][mycorpus[index + 1]] += 1\n",
    "        if (index + 2) < len(mycorpus):\n",
    "            if mycorpus[index + 2] in n[i]:\n",
    "                n[i][mycorpus[index + 2]] += 1"
   ]
  },
  {
   "cell_type": "code",
   "execution_count": 350,
   "metadata": {
    "collapsed": true
   },
   "outputs": [],
   "source": [
    "import math\n",
    "\n",
    "# calculating pointwise mutual information\n",
    "rep_c = [[0 for i in range(len(C))] for j in range(len(V))]\n",
    "\n",
    "c_total = 0\n",
    "for i in range(len(C)):\n",
    "    c_total += len(word_indices[C[i]])\n",
    "\n",
    "for i in range(len(V)):\n",
    "    denom = 0\n",
    "    for j in range(len(C)):\n",
    "        denom += n[i][C[j]]\n",
    "    for j in range(len(C)):\n",
    "        prc_given_w = (n[i][C[j]] + 0.0)/denom\n",
    "        if prc_given_w > 0:\n",
    "            num_c = len(word_indices[C[j]])\n",
    "            prc = (num_c + 0.0)/c_total\n",
    "            temp = math.log(prc_given_w/prc)\n",
    "            if temp > 0:\n",
    "                rep_c[i][j] = temp"
   ]
  },
  {
   "cell_type": "code",
   "execution_count": 351,
   "metadata": {},
   "outputs": [
    {
     "name": "stdout",
     "output_type": "stream",
     "text": [
      "5000\n",
      "100\n"
     ]
    }
   ],
   "source": [
    "import numpy as np\n",
    "from sklearn.decomposition import PCA\n",
    "\n",
    "# running PCA to reduce dimension from 1000 to 100\n",
    "pca = PCA(n_components=100)\n",
    "rep_100 = pca.fit_transform(rep_c)\n",
    "\n",
    "print (len(rep_100))\n",
    "print (len(rep_100[0]))"
   ]
  },
  {
   "cell_type": "code",
   "execution_count": 396,
   "metadata": {
    "collapsed": true
   },
   "outputs": [],
   "source": [
    "from sklearn.metrics.pairwise import cosine_similarity\n",
    "\n",
    "similarity = cosine_similarity(rep_100)"
   ]
  },
  {
   "cell_type": "code",
   "execution_count": 401,
   "metadata": {},
   "outputs": [],
   "source": [
    "def getmostsim(myword):\n",
    "    myindex = V.index(myword)\n",
    "    mysims = similarity[myindex]\n",
    "    \n",
    "    mask = np.zeros(len(V), dtype=bool)\n",
    "    mask[[myindex]] = True\n",
    "    temp = np.ma.array(mysims, mask=mask)\n",
    "    mysimwordindex = np.ndarray.tolist(mysims).index(np.max(temp))\n",
    "    \n",
    "    mysimword = V[mysimwordindex]\n",
    "    \n",
    "    print (\"word: \" + myword)\n",
    "    print (\"nearest neighbor: \" + mysimword)"
   ]
  },
  {
   "cell_type": "code",
   "execution_count": 444,
   "metadata": {},
   "outputs": [
    {
     "name": "stdout",
     "output_type": "stream",
     "text": [
      "word: girl\n",
      "nearest neighbor: woman\n",
      "word: god\n",
      "nearest neighbor: christ\n",
      "word: money\n",
      "nearest neighbor: pay\n",
      "word: chemical\n",
      "nearest neighbor: chlorine\n",
      "word: detergent\n",
      "nearest neighbor: fabrics\n",
      "word: africa\n",
      "nearest neighbor: asia\n",
      "word: dictionary\n",
      "nearest neighbor: text\n",
      "word: monday\n",
      "nearest neighbor: tuesday\n",
      "word: three\n",
      "nearest neighbor: four\n",
      "word: mouth\n",
      "nearest neighbor: eyes\n",
      "word: recent\n",
      "nearest neighbor: present\n",
      "word: business\n",
      "nearest neighbor: industry\n",
      "word: aircraft\n",
      "nearest neighbor: submarines\n",
      "word: results\n",
      "nearest neighbor: data\n",
      "word: music\n",
      "nearest neighbor: jazz\n",
      "word: nuclear\n",
      "nearest neighbor: weapons\n",
      "word: apartment\n",
      "nearest neighbor: room\n",
      "word: concert\n",
      "nearest neighbor: orchestra\n",
      "word: news\n",
      "nearest neighbor: announced\n",
      "word: tax\n",
      "nearest neighbor: income\n",
      "word: september\n",
      "nearest neighbor: december\n",
      "word: school\n",
      "nearest neighbor: college\n",
      "word: anger\n",
      "nearest neighbor: painful\n",
      "word: cat\n",
      "nearest neighbor: leaped\n",
      "word: earth\n",
      "nearest neighbor: dust\n"
     ]
    }
   ],
   "source": [
    "getmostsim(\"girl\")\n",
    "getmostsim(\"god\")\n",
    "getmostsim(\"money\")\n",
    "getmostsim(\"chemical\")\n",
    "getmostsim(\"detergent\")\n",
    "getmostsim(\"music\")\n",
    "getmostsim(\"nuclear\")\n",
    "getmostsim(\"apartment\")\n",
    "getmostsim(\"concert\")\n",
    "getmostsim(\"school\")\n",
    "getmostsim(\"anger\")\n",
    "getmostsim(\"earth\")\n",
    "getmostsim(\"news\")\n",
    "getmostsim(\"tax\")\n",
    "getmostsim(\"september\")\n",
    "getmostsim(\"africa\")\n",
    "getmostsim(\"dictionary\")\n",
    "getmostsim(\"monday\")\n",
    "getmostsim(\"three\")\n",
    "getmostsim(\"cat\")\n",
    "getmostsim(\"mouth\")\n",
    "getmostsim(\"recent\")\n",
    "getmostsim(\"business\")\n",
    "getmostsim(\"aircraft\")\n",
    "getmostsim(\"results\")"
   ]
  },
  {
   "cell_type": "code",
   "execution_count": 385,
   "metadata": {},
   "outputs": [],
   "source": [
    "from sklearn.cluster import KMeans\n",
    "\n",
    "kmeans = KMeans(n_clusters=100).fit(rep_100)"
   ]
  },
  {
   "cell_type": "code",
   "execution_count": 386,
   "metadata": {},
   "outputs": [],
   "source": [
    "clusters = {}\n",
    "\n",
    "for i in range(len(V)):\n",
    "    word = V[i]\n",
    "    cluster = kmeans.labels_[i]\n",
    "    if cluster not in clusters:\n",
    "        clusters[cluster] = [word]\n",
    "    else:\n",
    "        clusters[cluster].append(word)"
   ]
  },
  {
   "cell_type": "code",
   "execution_count": 387,
   "metadata": {},
   "outputs": [
    {
     "name": "stdout",
     "output_type": "stream",
     "text": [
      "['amount', 'obtained', 'energy', 'gas', 'equal', 'maximum', 'measured', 'cell', 'formula', 'item', 'liquid', 'sum', 'containing', 'oxygen', 'particles', 'ratio', 'chlorine', 'thermal', 'density', 'flux', 'velocity']\n",
      "['new', 'york', 'south', 'north', 'east', 'park', 'post', 'governor', 'bank', 'providence', 'region', 'valley', 'california', 'located', 'homes', 'coast', 'travel', 'dallas', 'railroad', 'philadelphia', 'georgia', 'native', 'avenue', 'offices', 'pennsylvania', 'manchester', 'route', 'tour', 'downtown', 'democrats', 'illinois', 'mississippi', 'ohio', 'visiting', 'connected', 'falls', 'factory', 'museum', 'farther', 'territory', 'pacific', 'southeast', 'shopping', 'delaware', 'greenwich', 'northwest', 'carolina', 'neighboring', 'tennessee', 'degrees', 'traveled', 'gulf', \"city's\", 'missouri', 'warwick', 'prairie', 'border', 'alabama', 'wisconsin']\n",
      "['speaking', 'lie', 'version', 'contrary', 'everywhere', 'creation', 'identified', 'curious', 'rough', 'assumption', 'match', 'existed', 'brings', 'deeply', 'simultaneously', 'briefly', 'strongly', 'holmes', 'scientists', 'facing', 'suggestion', 'accident', 'catholics', 'confronted', 'colored', 'perfectly', 'reveal', 'impressed', 'surprising', 'encountered', 'consequence', 'enthusiasm', 'arise', 'insist', 'observation', 'oral', 'mutual', 'liberals', 'handled', 'pointing', 'recalled', 'anti-trust', 'racial', 'probable', 'al', 'continually', 'charming', 'accurately', 'actor', 'regime', 'ambiguous', 'troubles', 'triumph', 'dealt', 'chiefly', 'describes', 'grows', 'motive', 'unfortunate', 'insight', 'acceptable', 'respond', 'accepting', 'governing', 'inclined', 'respectable', 'diet', 'persuaded', 'planet', 'planetary', 'quarrel', 'puts', 'responded', 'theories', 'tangible', 'respective', 'fathers', 'solved', 'lacked', 'demanding', 'assurance', 'orthodox', 'rugged', 'distinguish', 'commented', 'privilege']\n",
      "['equipment', 'plant', 'farm', 'designed', 'oil', 'produce', 'electric', 'potential', 'commercial', 'improved', 'vehicles', 'efficiency', 'advertising', 'impressive', 'manufacturers', 'insurance', 'residential', 'meat', 'expensive', 'transportation', 'marketing', 'tend', 'wages', 'cooling', \"today's\", 'customers', 'handling', 'processing', 'industries', 'stores', 'lumber', 'producing', 'financing', 'suitable', 'household', 'plastic', 'involve', 'competitive', 'dealers', 'buying', 'utility', 'modest', 'builder', 'entertainment', 'municipal', 'builders', \"company's\", 'grain', 'customer', 'promotion', 'dealer', 'prospects', 'manufacturing', 'savings', 'gin', 'repair', 'inc.', 'improvements', 'retail']\n",
      "['poet', 'careful', 'sleeping']\n",
      "['hands', 'arms', 'mouth', 'teeth', 'arm', 'fell', 'neck', 'pulled', 'lips', 'legs', 'chair', 'fingers', 'shoulder', 'nose', 'leg', 'beneath', 'shook', 'hat', 'marine', 'chest', 'wet', 'breath', 'shoulders', 'throat', 'swung', 'threw', 'snake', 'shoes', 'lifted', 'touched', 'burned', 'knees', 'tongue', 'matsuo', 'bent', 'stretched', 'jacket', 'falling', 'slipped', 'knocked', 'bare', 'trembling', 'chin', 'backward', 'stiff', 'lowered', 'shaking', 'grabbed', 'grip', 'brushed', 'cheek', 'resting']\n",
      "['men', 'times', 'weeks', 'couple', 'shot', 'ship', 'round', 'twice', 'birds', 'dozen', 'till', 'mail', \"'em\", 'neighbors', 'meanwhile', 'miriam', 'seconds']\n",
      "['led', 'principle', 'status', 'security', 'balance', 'allow', 'educational', 'independent', 'policies', 'rapidly', 'primarily', 'relation', 'internal', 'acting', 'exist', 'vital', 'conduct', 'cultural', 'decisions', 'conflict', 'integration', 'attitudes', 'interference', 'rapid', 'external', 'societies', 'participation', 'involves', 'goals', 'gained', 'objectives', 'serves', 'nationalism', 'consequences', 'genuine', 'debate', 'promote', 'initiative', 'consistent', 'supporting', 'norms', 'discrimination', 'governmental', 'controlling', 'voluntary', \"america's\", 'trends', 'whereby', 'decisive']\n",
      "['tree', 'suit', 'ring', 'lincoln', 'cast', 'spirits', 'orleans', 'self', 'recall', 'harbor', 'cash', 'occupied', 'patients', 'eggs', 'shortly', 'succeeded', 'unfortunately', 'massive', 'mountain', 'harold', 'bird', 'gallery', 'et', 'sherman', 'theatre', 'irish', 'formerly', 'convention', 'combat', 'permission', 'suite', 'fred', 'literally', 'scholars', 'palfrey', 'helva', 'ward', 'aboard', 'demonstration', 'correspondence', \"o'banion\", 'seized', 'nervous', 'tie', 'arrival', 'illustration', 'whispered', 'servants', 'blues', 'drinks', 'planets', 'jail', 'philip', 'prisoners', 'desert', 'votes', 'florida', 'nest', 'awake', 'salem', 'lodge', 'delivery', 'midst', 'instantly', 'individually', 'polish', 'sketches', 'emperor', 'dim', 'hay', 'smelled']\n",
      "['cities', 'forest', 'site', 'plants', 'boats', 'towns', 'waters', 'attractive', 'hunting', 'damage', 'branch', 'quantity', 'efficient', 'fishing', 'extending', 'residence', 'colony', 'mines', 'surplus', 'paying', 'exceptions', 'factories', 'craft', 'boating', 'bid', 'ownership', 'forests', 'taxpayers', 'bold', 'hotels', 'wildlife']\n",
      "['women', 'club', 'member', 'visit', 'entered', 'chicago', 'london', 'editor', 'planned', 'san', 'newspaper', 'duty', 'boston', 'friday', 'joined', 'issued', 'welcome', 'hopes', 'visited', 'presumably', 'scheduled', 'reception', 'attended', 'atlanta', 'urged', 'returning', 'harvard', 'dartmouth', 'roosevelt', 'voted', \"women's\", 'invited', 'aug.', 'advisory', 'portland', 'miami']\n",
      "['upon', 'sense', 'whole', 'law', 'action', 'force', 'future', 'nature', 'makes', 'indeed', 'natural', 'purpose', 'strength', 'merely', 'cause', 'degree', 'respect', 'based', 'justice', 'serve', 'existence', 'events', 'considerable', 'measure', 'objective', 'failure', 'regard', 'immediate', 'ability', 'actions', 'largely', 'goal', 'judgment']\n",
      "['recent', 'efforts', 'highly', 'success', 'possibility', 'workers', 'significant', 'favor', 'standards', 'connection', 'substantial', 'achievement', 'credit', 'sufficient', 'competition', 'greatly', 'advance', 'trained', 'opportunities', 'difficulties', 'trend', 'engineering', 'developments', 'extensive', 'technology', 'improvement', 'attempts', 'foundation', 'consumer', 'substantially', 'over-all', 'retired', 'favorable', 'engineers', 'skilled', 'prestige', 'textile', 'sixties']\n",
      "['like', 'man', 'little', 'home', 'got', 'away', 'put', 'hand', 'took', 'look', 'big', 'together', 'miss', 'heard', 'moment', 'boy', 'voice', 'woman', 'girl', 'hard', 'soon', 'gone', 'started', 'kept', 'coming', 'dead', 'heart', 'cold', 'getting', 'rest', 'start', 'beautiful', 'hotel', 'horse', 'returned', 'hit', 'waiting', 'ball', 'pretty', 'bit', 'playing', 'doctor', 'walk', 'jack', 'clothes', 'seeing', 'coffee', 'quiet', 'killed', 'stayed', 'sit', 'sleep', 'grew', 'baby', 'cool', 'busy', 'alfred', 'quietly', 'tired']\n",
      "['city', 'company', 'washington', 'report', 'central', 'received', 'meeting', 'police', 'sent', 'army', 'series', 'press', 'recently', 'chief', 'reported', 'staff', 'division', 'officer', 'published', 'manager', 'reports', 'officers', 'presented', 'ordered', 'headquarters', 'publication', 'moscow']\n",
      "['figure', 'top', 'cut', 'shown', 'paper', 'square', 'piece', 'design', 'b', 'clay', 'film', 'pieces', 'base', 'inches', 'shape', 'solid', 'frame', 'upper', 'column', 'flat', 'remove', 'angle', 'engine', 'desired', 'resistance', 'diameter', 'mold', 'thickness', 'parallel', 'inch', 'measuring', 'holder', 'disk', 'firing', 'lid']\n",
      "['established', 'attitude', 'follow', 'philosophy', 'broad', 'provides', 'recognized', 'expression', 'tone', 'emotional', 'communication', \"one's\", 'spiritual', 'concerning', 'feelings', 'ultimate', 'unique', 'inner', 'acceptance', 'opinions', 'seeking', 'recognition', 'mental', 'identification', 'psychological', 'conscience', 'revealed', 'extension', 'logical', 'emotion', 'tends', 'poetic', 'perception', 'satisfaction', 'profound', 'aesthetic', 'expressing', 'convictions']\n",
      "['patient', 'rome', 'parker', 'pleasure', 'ended', 'stories', 'roman', 'enjoyed', 'generation', 'hero', 'medium', 'editorial', 'writes', 'virtually', 'personally', 'thoroughly', 'severe', 'forgotten', 'release', 'printed', 'challenge', 'sympathy', 'badly', 'worst', 'italy', 'concluded', 'poets', 'movies', 'pages', 'doctors', 'era', 'dreams', 'frontier', 'shakespeare', 'lesson', 'creating', 'prize', 'absolutely', 'injury', 'conceived', 'desperate', 'threatening', 'legend', 'declaration', 'utopia', 'bore', 'expectations', 'musician', 'unexpected', 'spencer', 'suspected', 'thereafter', 'reactionary', 'fascinating', 'motives', 'tensions', 'caution']\n",
      "['mr.', 'old', 'young', 'name', 'wife', 'mother', 'father', 'wrote', 'brown', 'son', 'st.', 'letter', 'friend', 'met', 'husband', 'george', 'married', 'thomas', 'charles', 'king', 'mary', 'spoke', 'died', 'named', 'remembered', 'brother', 'daughter', 'morgan', 'richard', 'mercer', 'frank', 'honor', 'wilson', 'talked', 'lewis', 'uncle', 'loved', 'dear', 'david', 'lucy', 'admitted', 'lawyer', 'thompson', 'harry', 'funeral']\n",
      "['business', 'available', 'cost', 'military', 'increase', 'required', 'support', 'pay', 'industry', 'defense', 'production', 'food', 'industrial', 'sales', 'provided', 'additional', 'radio', 'account', 'operation', 'include', 'demand', 'construction', 'management', 'carry', 'companies', 'capital', 'requirements', 'economy', 'personnel', 'membership', 'resources', 'exchange', 'initial', 'employees', 'maintenance', 'continuing', 'existing', 'maintain', 'budget', 'providing', 'considering', 'employment', 'loan', 'expenditures', 'investment', 'long-range']\n",
      "['town', 'boys', 'girls', 'lived', 'houses', 'telephone', 'virginia', 'camp', 'village', 'families', 'horses', 'bay', 'fort', 'faced', 'lake', 'hudson', 'band', 'japanese', 'mention', 'hills', 'grand', 'thousands', 'nearby', 'lovely', 'ships', 'mountains', 'brothers', 'swept', 'howard', 'crowded', 'winning', 'surrounding', 'parade', 'woods', 'orange', 'historic', 'gang', 'cape', 'string']\n",
      "['another', 'place', 'small', 'every', 'set', 'end', 'called', 'second', 'began', 'line', 'show', 'taken', 'past', 'half', 'field', 'held', 'brought', 'position', 'close', 'turn', 'full', 'center', 'run', 'short', 'sound', 'table', 'finally', 'third', 'space', 'taking', 'beyond', 'stage', 'instead', 'followed', 'single', 'beginning', 'final', 'entire', 'fall', 'stock', 'using', 'directly', 'throughout', 'record', 'appeared', 'direction', 'continued', 'step', 'lead', 'worked', 'movement', 'placed', 'carried', 'immediately', 'main', 'middle', 'length', 'pool', 'scene', 'remained', 'built', 'key', 'battle', 'regular', 'opening', 'starting']\n",
      "['said', 'get', 'never', 'know', 'right', 'thought', 'say', 'something', 'think', 'told', 'nothing', 'going', 'asked', 'knew', 'thing', 'want', 'anything', 'really', \"i'm\", 'tell', 'sure', 'wanted', \"that's\", 'everything', \"i'll\", 'else', \"can't\", 'trying', 'happened', 'yes', 'anyone', 'remember', 'trouble', 'maybe', 'wrong', \"he's\", \"i've\", 'oh', 'saying', \"there's\", \"i'd\", 'talking', 'meant', 'happy', \"he'd\", 'hell', 'nobody', 'everybody', \"she'd\", 'asking', 'phil', \"they're\", 'kill', \"we're\", 'kid', 'guess', 'telling']\n",
      "['results', 'described', 'subjects', 'cells', 'selected', 'sections', 'properties', 'experiments', 'procedures', 'tests', 'chemical', 'technique', 'sample', 'measurements', 'periods', 'volumes', 'readily', 'varying', 'tissue', 'observations', 'experimental', 'staining', 'measurement', 'tube', 'respectively', 'samples', 'electron', 'scope', 'tubes', 'indirect', 'optical', 'nonspecific']\n",
      "['techniques', 'aircraft', 'electronic', 'preparation', 'precision', 'listed', 'automatic', 'cleaning', 'foam', 'latest', 'missiles', 'testing', 'evaluation', 'plastics', 'demonstrate', 'phenomena', 'urethane', 'detergent', 'accomplish', 'manufacturer', 'capabilities', 'bombers', 'foams', 'theoretical', 'adjustments', 'submarines', 'styles', 'fractions']\n",
      "['crisis', 'practical', 'career', 'speech', 'emphasis', 'congo', 'chinese', 'absence', 'partly', 'warfare', 'legislative', 'communists', 'determination', 'destruction', 'context', 'visible', 'slavery', 'articles', 'crucial', 'purely', 'innocence', 'establishing', 'succession', 'operational', 'strategic', 'implications']\n",
      "['back', 'came', 'around', 'went', 'head', 'room', 'face', 'looked', 'saw', 'turned', 'open', 'door', 'behind', 'front', 'stood', 'fire', 'looking', 'suddenly', 'hall', 'sat', 'opened', 'stopped', 'bed', 'window', 'slowly', 'straight', 'afternoon', 'closed', 'dropped', 'trees', 'standing', 'caught', 'sitting', 'mike', 'kitchen', 'watched', 'beside', 'watching', 'waited', 'desk', 'stared', 'seat', 'porch', 'staring']\n",
      "['one', 'handle', 'strike', 'enjoy', 'favorite', 'desegregation', 'discover', 'sacred', 'fail', 'occasional', 'admit', 'automatically', 'sees', 'guide', 'paintings', 'grade', 'alternative', 'sing', 'admission', 'inevitable', 'so-called', 'seventh', 'successfully', 'medicine', 'citizen', 'mixture', 'argued', 'ignored', 'exciting', 'encouraged', 'helpful', 'responses', 'offering', 'excuse', 'clarity', 'permits', 'requirement', 'prefer', 'victim', 'festival', 'roots', 'retirement', 'climate', 'contest', 'sophisticated', 'southerners', 'perspective', 'viewed', 'amateur', 'terror', 'adult', 'roughly', 'subtle', 'subjected', 'managers', 'puerto', 'tended', 'suggestions', 'giant', 'imitation', 'happiness', 'miller', 'expects', 'physics', 'baltimore', 'doubtful', 'occasions', 'fortunate', 'anglo-saxon', 'associate', 'rico', 'monument', 'competent', 'belgians', 'wives', 'complement', 'enforced', 'illness', 'conditioned', 'mathematics', 'converted', 'founded', 'accordance', 'attain', 'wit', 'manage', 'authentic', 'pursue', 'oedipus', 'politicians', 'stresses', 'directors', 'span', 'eve', 'rid', 'likes', 'label', 'spell', 'therapist', 'helion']\n",
      "['estate', 'sold', 'agent', 'afford', 'decide', 'prominent', 'serving', 'banks', 'distant', 'filling', 'supplied', 'equipped', 'claimed', 'tied', 'owned', 'cooking', 'studio', 'outer', 'worker', 'associations', 'root', 'stable', 'transferred', 'unions', 'cow', 'examined', 'discipline', 'fiber', 'part-time', 'abandoned', 'productive', 'd.c.', 'exploration', 'full-time', 'workshop', 'motel', 'employee', 'automobiles', 'bases', 'farmer', 'spare', 'select', 'merchants', 'convenient', 'moderate', 'architect', 'heritage', 'intimate', 'rent', 'receives', 'disposal', 'injured', 'slim', 'assessors', 'poverty', 'makers', 'venture', 'mechanics', 'preserved', 'situated', 'movable', 'plantation', 'deliver']\n",
      "['high', 'less', 'per', 'level', 'rate', 'greater', 'pressure', 'costs', 'low', 'higher', 'range', 'increased', 'size', 'normal', 'volume', 'average', 'reaction', 'lower', 'price', 'unit', 'rise', 'rates', 'actual', 'mass', 'operating', 'distribution', 'reduced', 'atmosphere', 'smaller', 'increasing', 'increases', 'constant', 'compared', 'flow', 'minimum', 'impact', 'cutting', 'reasonable', 'reduce', 'rising', 'prices', 'tension', 'wage', 'intensity', 'comparison']\n",
      "['may', 'made', 'also', 'many', 'must', 'however', 'general', 'fact', 'point', 'order', 'rather', 'case', 'become', 'others', 'although', 'matter', 'example', 'seems', 'cannot', 'question', 'making', 'clear', 'effect', 'plan', 'therefore', 'evidence', 'situation', 'expected', 'view', 'attention', 'simple', 'issue', 'likely', 'cases', 'difference', 'statement', 'questions', 'generally', 'clearly', 'consider', 'test', 'decision', 'obviously', 'choice', 'indicated', 'suggested', 'despite', 'prepared', 'primary', 'accepted', 'opinion', 'shows', 'frequently', 'noted', 'relationship', 'facts', 'rules', 'stated', 'circumstances', 'remains', 'appears', 'interesting', 'instance', 'event', 'fully', 'mentioned', 'response', 'expressed', 'brief', 'statements', 'issues', 'matters', 'assume', 'consideration']\n",
      "['doubt', 'whatever', 'speak', 'giving', 'break', 'allowed', 'impossible', 'forced', 'explained', 'desire', 'looks', 'fit', 'dog', 'removed', 'pointed', 'positive', 'accept', 'evil', 'realize', 'willing', 'aside', 'gets', 'besides', 'capable', 'object', 'supposed', 'mine', 'understood', 'lose', 'informed', 'unable', 'experienced', 'bitter', 'agree', 'easier', 'convinced', 'blind', 'confusion', 'helping', 'suffering', 'answers', 'confused', 'holds', 'reply', 'express', 'constantly', 'happens', 'proof', 'assured', 'blame', 'letting', 'argue', 'settle', 'hide', 'helpless', 'ignore']\n",
      "['sweet', 'struck', 'snow', 'sounds', 'incident', 'plain', 'anger', 'singing', 'henrietta', 'handsome', 'focus', 'ears', 'spoken', 'hurt', 'stomach', 'paint', 'jane', 'calm', 'seldom', 'mistake', 'guilt', 'bone', 'gesture', 'excitement', 'weak', 'circles', 'remark', 'asleep', 'tea', 'stars', 'sang', 'ear', 'hal', 'ladies', 'tight', 'mirror', 'delicate', 'imagined', 'cady', 'lively', 'repeat', 'disturbed', 'jew', 'greg', 'torn', 'patrol', 'evidently', 'faint', 'wildly', 'relieved', 'promising', 'tail', 'colleagues', 'worn', 'cleared', 'incredible', 'dive', 'sink', 'searching', 'excited', 'complained', 'uncertain', 'adding', 'nerves', 'savage', 'mess', 'uneasy', 'bother', 'tire', 'yelled', 'delay', 'startled', 'questioning', 'despair', 'killer', 'ugly', 'shame', 'podger', 'tale', 'reverend', 'rang', 'greeted', 'rush', 'splendid', 'gather', 'lean', 'jungle', 'dolores', 'impulse', 'guards', 'slender', 'pamela', 'shocked', 'ridiculous', 'shorter', 'relax', 'sober', 'puzzled', 'fury', 'haney', 'letch']\n",
      "['page', 'u.', 'notes', 'remarks', 'elections', 'views', 'papers', 'eisenhower', 'co.', 'bureau', 'journal', 'proposal', 'rayburn', 'copy', 'arrangements', 'survey', 'accompanied', 'candidate', 'presentation', 'interview', 'swift', 'elaborate', 'partner', 'mills', 'indians', 'comments', 'republicans', 'premier', 'quoted', 'nixon', 'critic', 'generous', 'recommendation', 'draft', 'announcement', 'preliminary', 'masters', 'assembled', 'maryland', 'lawyers', 'congressional', 'capitol', 'intentions', 'conspiracy', 'vienna', 'ambassador', 'detroit', 'wagner', 'submitted', 'congressman', 'prospective', 'tales', 'steele', 'feb.', 'negotiations', 'invitation', 'arrest', 'cuban', 'continental', 'documents', 'insistence']\n",
      "['figures', 'names', 'drawn', 'appropriate', 'typical', 'objects', 'dream', 'greek', 'repeated', 'completion', 'apart', 'examples', 'content', 'centers', 'ages', 'childhood', 'instrument', 'tables', 'raw', 'comparable', 'maturity', 'onset', 'definite', 'outstanding', 'routine', 'phenomenon', 'sequence', 'arrangement', 'classical', \"child's\", 'scheme', 'healthy', 'mature', 'invariably', 'accordingly', 'folklore', 'exact', 'reserved', 'refer', 'snakes', 'vague', 'fibers', 'colorful', 'summary', 'occurring', 'landscape']\n",
      "['americans', 'loss', 'secret', 'believed', 'discovered', 'settled', 'contact', 'grow', 'struggle', 'keeping', 'neighborhood', 'trust', 'detective', 'tragedy', 'lies', 'pace', 'grown', 'catch', 'bound', 'rarely', 'grace', 'pope', 'newspapers', 'experts', 'bringing', \"god's\", 'primitive', 'plot', 'comfortable', 'host', 'protect', 'suffer', 'discussions', 'helps', 'witness', 'wherever', 'eager', 'friendship', 'intelligent', 'disaster', 'dilemma', 'lonely', 'cope', 'luxury', 'stake']\n",
      "['work', 'meet', 'machine', 'supply', 'materials', 'add', 'check', 'build', 'speed', 'buy', 'shelter', 'machinery', 'avoid', 'goods', 'machines', 'raise', 'supplies', 'replaced', 'seeds', 'seed', 'tool', 'cotton', 'waste', 'tools']\n",
      "['feed', 'motors', 'maintained', 'models', 'artery', 'fed', 'organic', 'similarly', 'vehicle', 'owners', 'mechanical', 'benefits', 'branches', 'depending', 'coal', 'selling', 'beef', 'markets', 'instances', 'ranging', 'concentrated', 'sewage', 'jet', 'bronchial', 'profit', 'designs', 'surfaces', 'pound', 'prevention', 'aids', 'distributed', 'pulmonary', 'released', 'register', 'submarine', 'corporations', 'applications', 'trading', 'coverage', 'flexible', 'approaches', 'vein', 'reflect', 'sba', 'heating', 'weekly', 'astronomy', 'drug', 'compete', 'sheep', 'continuously', 'substances', 'inventory', 'statistics', 'chart', 'sphere', 'reliable', 'giants', 'replacement', 'availability', 'conversion', 'characterized', 'winds', 'commodities', 'enjoyment', 'milligrams', 'protein', 'particle', 'intervention', 'aroused', 'rises', 'package', 'lungs', 'underground', 'specialists', 'livestock', 'businesses', 'shipping', 'mexico', 'dairy', 'lesser', 'depths', 'diseases', 'fever', 'fats', 'timber', 'patents', 'lb.', 'stocks']\n",
      "['house', 'left', 'toward', 'side', 'along', 'across', 'car', 'office', 'street', 'outside', 'near', 'road', 'moved', 'inside', 'river', 'building', 'wall', 'walked', 'floor', 'ran', 'steps', 'gun', 'corner', 'opposite', 'block', 'stone', 'entrance', 'rear', 'gate']\n",
      "['value', 'values', 'property', 'types', 'latter', 'function', 'standard', 'products', 'determine', 'applied', 'purposes', 'product', 'units', 'require', 'features', 'items', 'fig.', 'levels', 'application', 'reference', 'location', 'components', 'foods', 'functions', 'relative', 'continuous', 'varied', 'possibilities']\n",
      "['party', 'charge', 'agreed', 'campaign', 'election', 'vote', 'leader', 'powers', 'jury', 'declared', 'join', 'powerful', 'friendly', 'task', 'parties', 'majority', 'regarded', 'demands', 'republican', 'positions', 'supported', 'u.n.', 'automobile', 'congregation', 'opposition', 'calling', 'threat', 'representatives', 'institution', 'dependent', 'necessity', 'authorities', 'acts', 'emergency', 'candidates', 'profession', 'fellowship', 'thereby', 'duties', 'collective', 'reform', 'sovereign', 'allied', 'perform', 'ecumenical', \"president's\", 'meetings', 'maintaining', 'discuss', 'publicity', 'cocktail', 'conferences', 'contacts', 'ultimately', 'civic', 'recommendations', 'obligations', 'socialist', 'crises', 'minority', 'committees']\n",
      "['character', 'writing', 'language', 'style', 'tradition', 'entirely', 'poetry', 'created', 'nevertheless', 'writer', 'writers', 'familiar', 'historical', 'communism', 'fashion', 'arts', 'imagination', 'contemporary', 'ideal', 'learning', 'bible', 'artist', 'minds', 'artists', 'sin', 'creative', 'precisely', 'numerous', 'fiction', 'doctrine', 'visual', 'readers', 'folk', 'historian', 'altogether']\n",
      "['memory', 'rich', 'beauty', 'wonder', 'birth', 'message', 'save', 'finds', 'perfect', 'permitted', 'vision', 'bought', 'soil', 'jews', 'indian', 'flesh', 'choose', 'taught', 'holy', 'deny', 'fought', 'wisdom', 'younger', 'believes', 'insisted', 'saved', 'unlike', 'suffered', 'queen', 'joy', 'belong', 'peter', \"mother's\", 'virgin', 'tells', 'dying', 'gift', 'affair', 'owner', 'romantic', 'salvation', 'gorton', 'gay', 'sons', 'prayer', 'gentle', 'kingdom', 'mothers', 'inspired', 'star', 'brave', 'relatives', 'belongs', 'souls', \"john's\", 'possession', 'glory', 'confirmed', 'mercy', 'creatures', 'lover', 'loves', 'immortality']\n",
      "['quickly', 'enemy', 'pain', 'sight', 'fast', 'turning', 'faces', 'dogs', 'rain', 'quick', 'rifle', 'fat', 'wild', 'crowd', 'silence', 'warren', 'nodded', 'moments', 'driver', 'silent', 'stairs', 'pocket', 'watson', 'angry', 'ice', 'fired', 'darkness', 'demanded', 'steady', 'pike', 'smoke', 'shouted', 'stranger', 'stick', 'leaned', 'sudden', 'instant', 'voices', 'clouds', 'roberts', 'susan', 'lying', 'pat', 'jumped', 'tears', 'andy', 'burst', 'jess', 'shouting', 'curt', 'dave', 'softly', 'cried', 'mickey', 'fled', 'bullet', 'ramey', 'approaching', 'julia', 'frightened', 'nick', 'glanced', 'cigarette', 'barton', 'tilghman', 'tractor', 'seated', 'elaine', 'steadily', 'deegan', 'hesitated', 'russ', 'skirt', 'crack', 'shining', 'cafe', 'abel', 'leaped', 'slide', 'wiped', 'straightened', 'rourke']\n",
      "['music', 'written', 'audience', 'letters', 'jazz', 'dance', 'famous', 'musical', 'proved', 'excellent', 'pictures', 'score', 'soft', 'orchestra', 'songs', 'television', 'opera', 'ballet', 'mostly', 'odd', 'drama', 'musicians', 'concert', 'clerk', 'performances', 'dancers', 'recording', 'films', 'newport', 'delightful', 'pittsburgh', 'exhibit', 'dances', 'explains']\n",
      "['sir', 'captain', 'drink', 'lady', 'nice', 'smiled', 'answered', 'tom', 'surprised', 'somebody', 'smile', 'replied', 'flowers', 'joe', 'minute', 'pick', 'worry', 'phone', \"what's\", 'listen', 'surprise', 'guy', 'cousin', 'sick', 'laughed', 'ride', 'hoped', 'charlie', 'sorry', 'anyway', \"ain't\", 'promise', 'adam', 'hans', 'mama', 'hate', 'rachel', 'linda', 'pleased', 'kate', 'winston', 'papa', 'finish', 'tonight', 'glad', 'sharply', 'fool', 'drunk', 'thank', 'hurry', 'dressed', 'smiling', 'stanley', \"we've\", 'crazy', 'rector', \"we'd\", \"they'll\", 'stuff', 'eating', 'damn', 'maid', 'felix', \"he'll\", 'eddie', \"they'd\", 'grinned', 'brannon', 'paused', 'laugh', 'dan', 'clayton', 'cap', 'myra', 'eileen', 'sarah', 'ekstrohm', 'owen', 'wally', 'tim', 'honey', 'penny', 'yeah', 'stupid', 'pete', 'casey', 'bobby', 'hungry', 'whisky', 'wake', 'pa', 'maggie', 'bobbie', 'keeps', 'pitcher', 'kay', 'lucky', 'scared', 'smart', 'keith', 'maude', 'guys', 'figured', 'reporter', 'doc', 'anyhow', 'okay', 'skyros', 'policeman', 'damned']\n",
      "['strange', 'sam', 'die', 'somehow', 'wine', 'weather', 'happen', 'eat', 'refused', 'liked', 'wondered', 'alive', 'bear', 'wished', 'thoughts', 'wonderful', 'practically', 'knowing', 'proud', 'worse', 'leaves', 'cry', 'hearst', 'honest', 'surely', 'humor', 'dangerous', 'promised', 'comfort', 'heaven', 'teach', 'funny', 'missed', 'mad', 'forever', 'anywhere', 'listening', 'thanks', 'mood', 'swimming', 'innocent', 'tough', 'dirty', 'wear', 'sad', 'worried', 'bigger', 'violent', 'castro', 'kids', 'troubled', 'shock', 'precious', 'happening', 'passion', 'hated', 'shoot', 'ill', 'appreciate', 'johnnie', 'accused', 'prospect', 'harm', 'blanche', 'devil', 'forgive', 'scarcely', 'killing', 'noble', 'bet', 'victims']\n",
      "['would', 'could', 'way', 'make', 'see', 'us', 'come', 'go', 'take', 'enough', 'let', 'keep', 'leave', 'play', 'longer', 'call', 'move', 'tried', 'hold', 'friends', 'bring', 'talk', 'hear', 'stand', 'ready', 'decided', 'try', 'chance', 'ask', 'lot', 'easy', 'stop', 'learned', 'stay', 'wish', 'hardly', 'write', 'fight', 'suppose', 'wait', 'someone', 'touch', 'finished', 'otherwise', 'send', \"let's\", 'escape', 'explain', \"we'll\", 'please', 'closer', 'imagine', 'notice', 'negroes', 'afraid', 'draw', 'plenty', 'forget', 'throw', 'anybody', 'sell']\n",
      "['including', 'source', 'principal', 'records', 'develop', 'operations', 'offer', 'indicate', 'contrast', 'rule', 'adequate', 'highest', 'processes', 'sought', 'extended', 'create', 'practices', 'achieve', 'stages', 'situations', 'operate', 'essentially', 'adopted', 'considerably', 'exists', 'communities', 'combined', 'regarding', 'represent', 'enormous', 'metropolitan', 'determining', 'demonstrated', 'relevant']\n",
      "['plans', 'news', 'conference', 'announced']\n",
      "['even', 'much', 'well', 'people', 'good', 'might', 'without', 'course', 'always', 'better', 'find', 'give', 'things', 'need', 'felt', 'best', 'ever', 'seemed', 'mind', 'done', 'kind', 'help', 'perhaps', 'whether', 'quite', 'word', 'money', 'probably', 'real', 'reason', 'job', 'true', 'seem', 'sometimes', 'feel', 'able', 'child', 'says', 'believe', 'mean', 'hope', 'feeling', 'simply', 'sort', 'care', 'fine', 'story', 'answer', 'thinking', 'deal', 'certainly', 'bad', 'neither', 'understand', 'serious', 'poor', 'none', 'expect', 'exactly', 'unless', 'marriage', 'parents', 'goes', 'learn', 'fair', 'wants', 'ought', 'helped', 'seriously']\n",
      "['states', 'court', 'congress', 'district', 'trial', 'claim', 'authority', 'laws', 'file', 'rights', 'hearing', 'claims', 'legal', 'directed', 'relief', 'attorney', 'appeal', 'officials', 'fund', 'establish', 'grounds', 'review', 'investigation', 'approval', 'supreme', 'courts', 'denied', 'recommended', 'legislation', 'approved', 'legislature', 'revenue', 'dispute', 'filed', 'rejected', 'charter', 'jurisdiction', 'petitioner', 'regulations', 'rendered', 'recommend', 'judges', 'enforcement', 'proceedings']\n",
      "['meaning', 'takes', 'sex', 'reality', 'traditional', 'literary', 'difficulty', 'independence', 'revolution', 'characteristic', 'search', 'intellectual', 'dominant', 'belief', 'recognize', 'vast', 'sexual', 'exercise', 'culture', 'identity', 'experiences', 'conventional', 'necessarily', 'conviction', 'aspect', 'mere', 'patterns', 'liberty', 'environment', 'civilization', 'languages', 'shared', 'criticism', 'feature', 'species', 'worship', 'symbols', 'sciences', 'myth', 'roles', 'structures', 'christianity', 'controls', 'ethical', 'theological', 'critics', 'philosophical', 'zen', 'democracy', 'functional', 'beliefs', 'reflects', 'displayed', 'traditions', 'renaissance', 'invention', 'ethics', 'broader', 'realtors']\n",
      "['corps', 'prevent', 'projects', 'benefit', 'domestic', 'armed', 'firms', 'rural', 'advanced', 'establishment', 'widely', 'devoted', 'measures', 'shooting', 'missile', 'grant', 'safety', 'expansion', 'prior', 'encourage', 'pilot', 'contribute', 'concerns', 'continues', 'permanent', 'guidance', 'cooperation', 'contributed', 'agricultural', 'formation', 'scholarship', 'counties', 'matching', 'long-term', 'temporary', 'electronics', 'finance', 'proposals', 'expanding', 'talents', 'advantages', 'assist', 'instruction', 'departments', 'lands', 'contracts', 'civilian', 'agriculture', \"children's\", 'encouraging', 'stressed', 'rehabilitation', 'procurement', 'launched', 'grants', 'expanded', 'supplement', 'priority']\n",
      "['ones', 'older', 'poems', 'master', 'song', 'plays', 'novel', 'painting', 'occasion', 'pure', 'theme', 'interpretation', 'brilliant', 'count', 'poem', 'movements', 'violence', 'centuries', 'reader', 'whenever', 'hardy', 'describe', 'comedy', 'images', 'classic', 'characters', 'crime', 'performed', 'fallen', 'tragic', 'dancer', 'vigorous', 'scenes', 'commonly', 'marks', 'verse', 'patchen', 'totally', 'novels', 'partisan', 'heroic', 'reveals', 'compromise', 'strikes', 'essay']\n",
      "['platform', 'resolution', 'scale', 'stream', 'operator', 'bond', 'electrical', 'washing', 'storage', 'removal', 'atoms', 'controlled', 'hydrogen', 'license', 'multiple', 'coating', 'tape', 'installed', 'probability', 'output', 'attempted', 'equation', 'pathology', 'emission', 'saline', 'network', 'dimensions', 'stem', 'carbon', 'drying', 'fabrics', 'subsequent', 'apparatus', 'passes', 'v', 'electricity', 'instruments', 'gyro', 'composition', 'magnetic', 'attached', 'pond', 'structural', 'specimen', 'mathematical', 'zero', 'diffusion', 'registration', 'crystal', 'fraction', 'plug', 'h', 'oxidation', 'lengths', 'substrate', 'retained', 'investigations', 'lo', 'eliminated', 'frequency', 'hypothalamic', 'classification', 'shu', 'circular', 'linear', 'mars', 'temporarily', 'vacuum', 'input', 'discharge', 'entries', 'slope', 'distances', 'figs.', 'reactivity', 'tetrachloride', 'sera', 'vector']\n",
      "['greatest', 'ancient', 'animal', 'taste', 'truly', 'becoming', 'spite', 'begins', 'eventually', 'female', 'personality', 'remarkable', 'feels', 'brain', 'universal', 'emotions', 'muscle', 'reflected', 'sake', 'notion', 'mystery', 'deeper', 'magic', 'atom', 'beings', 'exposed', 'frequent', 'divine', 'harmony', 'leads', 'presents', 'substance', 'awareness', 'reflection', 'conception', 'defeat', 'muscles', 'virtue', 'complicated', 'signals', 'suggests', 'encounter', 'losing', 'mechanism', 'sovereignty', 'humanity', 'sensitivity', 'utterly', 'occurs', 'prevented', 'inherent', 'vivid', 'rational', 'ritual', 'destructive', 'continuity', 'realization', 'aimed', 'angels', 'realism', 'narrative', 'protest', 'exercises', 'loyalty', 'valid', 'substitute', 'dynamic', 'drawings', 'ideological', 'resolved', 'aristotle', 'cholesterol', 'verbal', 'punishment', 'utopian', 'underlying', 'fantastic', 'amazing', 'nude', 'plato', 'corporate', 'affects', 'devotion', 'produces', 'infinite', 'hypothalamus']\n",
      "['ways', 'original', 'separate', 'permit', 'model', 'treated', 'plus', 'detail', 'calls', 'seek', 'discussed', 'jobs', 'unusual', 'experiment', 'achieved', 'showing', 'solution', 'useful', 'granted', 'apply', 'suggest', 'prove', 'detailed', 'correct', 'extremely', 'employed', 'limit', 'intelligence', 'fears', 'referred', 'elsewhere', 'errors', 'accomplished', 'remaining', 'limits', 'selection', 'furthermore', 'resulted', 'questionnaire', 'kinds', 'instructions', 'lists', 'reasonably', 'findings', 'involving', 'covering', 'mainly', 'extend', 'shapes', 'communications', 'acquire', 'eliminate', 'phases', 'originally', 'pertinent']\n",
      "['president', 'secretary', 'union', 'committee', 'kennedy', 'former', 'soviet', 'firm', 'director', 'official', 'khrushchev', 'chairman', 'laos', 'senate', 'executive']\n",
      "['water', 'light', 'body', 'air', 'surface', 'ground', 'material', 'earth', 'temperature', 'hot', 'blood', 'sun', 'heat', 'radiation', 'anode', 'dust', 'warm', 'wind', 'moon', 'drop', 'waves', 'arc', 'strain', 'temperatures']\n",
      "['time', 'leaving', 'trip', 'paris', 'tomorrow', 'arrived', 'guests', 'beach', 'breakfast', 'advice', 'gold', 'milk', 'drinking', 'angeles', 'luck', 'italian', 'vacation', 'fun', 'dancing', 'lots', 'bread', 'furniture', 'guest', 'temple', 'supper', 'wednesday', 'fish', 'wedding', 'johnny', 'meal', 'reminded', 'journey', 'dawn', 'weekend', 'christmas', 'storm', 'bath', 'mount', 'meals', 'noon', 'pack', 'wines', 'midnight', 'luncheon', 'fogg', 'autumn', 'springs', 'gentlemen', 'envelope', 'hen', 'drank', 'salesmen']\n",
      "['world', 'power', 'country', 'free', 'political', 'economic', 'society', 'community', 'peace', 'america', 'nations', 'needs', 'countries', 'christian', 'nation', 'western', 'influence', 'freedom', 'organization', 'groups', 'progress', 'democratic', 'leaders', 'institutions', 'communist', 'leadership', 'interests', 'individuals', 'liberal', 'european', 'assure', 'peoples']\n",
      "['years', 'three', 'later', 'days', 'several', 'four', 'five', 'ago', 'six', 'million', 'minutes', 'months', 'hundred', 'ten', 'seven', 'eight', 'dollars', 'nine', 'twelve']\n",
      "['used', 'use', 'present', 'given', 'possible', 'interest', 'different', 'thus', 'information', 'major', 'study', 'result', 'change', 'control', 'necessary', 'various', 'type', 'needed', 'basis', 'complete', 'conditions', 'forces', 'data', 'basic', 'developed', 'terms', 'similar', 'market', 'particularly', 'effort', 'knowledge', 'methods', 'method', 'according', 'physical', 'changes', 'effective', 'systems', 'treatment', 'activity', 'lack', 'continue', 'limited', 'current', 'studies', 'included', 'proper', 'structure', 'produced', 'sources', 'scientific', 'essential']\n",
      "['eyes', 'white', 'black', 'red', 'dark', 'hair', 'blue', 'green', 'heavy', 'thin', 'bright', 'gray', 'dress', 'thick', 'wore', 'sky', 'pale', 'tall', 'yellow', 'tiny', 'pink', 'wearing', 'skin', 'golden', 'shade', 'beard', 'blonde']\n",
      "['carrying', 'forth', 'signs', 'motion', 'colors', 'burning', 'panels', 'steel', 'iron', 'heads', 'wire', 'weapon', 'guns', 'drawing', 'bars', 'painted', 'finger', 'holes', 'constructed', 'schedule', 'spanish', 'bombs', 'disappeared', 'corn', 'ocean', 'wash', 'locking', 'belt', 'poured', 'glasses', 'warmth', 'sand', 'dried', 'stained', 'powder', 'flew', 'wings', 'frozen', 'stretch', 'gear', 'planes', 'charm', 'mysterious', 'attacked', 'peas', 'rigid', 'flower', 'rifles', 'insects', 'plates', 'sweat', 'wounded', 'trucks', 'plate', 'palm', 'herd', 'soap', 'inspection', 'forming', 'fans', 'beam', 'wheels', 'marble', 'fluid', 'displays', 'melody', 'breathing', 'nuts', 'ranks', 'clothing', 'newer', 'tones', 'tooth', 'grains', 'sauce', 'mustard', 'stroke', 'neatly', 'dated', 'lap', 'canvas', 'blowing', 'stolen']\n",
      "['cars', 'station', 'drive', 'buildings', 'jones', 'hill', 'traffic', 'signal', 'narrow', 'streets', 'somewhere', 'headed', 'truck', 'motor', 'cross', 'wagon', 'walking', 'driving', 'via', 'mile', 'riding', 'driven', 'climbed', 'rode', 'palace', 'camera', 'shadow', 'bus', 'parked', 'gardens', 'heading', 'parking', 'trail', 'split', 'fence', 'freight', 'ranch', 'horizon', 'landing', 'feeding', 'drivers', 'rocks', 'loaded', 'crossing', 'sidewalk', 'garage', 'shadows', 'airport', 'cottage', 'traveling', 'rolling', 'ridge']\n",
      "['social', 'form', 'important', 'problem', 'certain', 'means', 'human', 'experience', 'problems', 'individual', 'personal', 'process', 'particular', 'subject', 'considered', 'involved', 'ideas', 'moral', 'direct', 'theory', 'forms', 'approach', 'understanding', 'religion', 'specific', 'quality', 'extent', 'analysis', 'effects', 'importance', 'elements', 'factors', 'becomes', 'related', 'behavior', 'discussion', 'practice', 'obvious', 'complex', 'concept', 'differences', 'principles', 'significance', 'aspects', 'fundamental', 'dealing']\n",
      "['fields', 'argument', 'properly', 'begun', 'passage', 'screen', 'concrete', 'superior', 'weakness', 'discovery', 'comment', 'distinguished', 'whereas', 'exception', 'introduction', 'striking', 'trials', 'satisfactory', 'accounts', 'illusion', 'error', 'binomial', 'presently', 'patent', 'currently', 'abstract', 'inadequate', 'transition', 'variation', 'protected', 'ruled', 'enterprise', 'considerations', 'composer', 'suspect', 'dates', 'sharpe', 'recovery', 'testament', 'enemies', 'acquired', 'bearing', 'impressions', 'magazines', 'absorbed', 'criminal', 'access', 'wholly', 'amendment', 'circuit', 'variations', 'anti-semitism', 'authors', 'suited', 'earliest', 'formulas', 'meanings', 'economical', 'sampling', 'merger', 'thorough', 'bundle', 'warrant', 'indication', 'binding', 'historians', 'transformation', 'b.c.', 'appeals', 'theology']\n",
      "['af', 'lines', 'points', 'c', 'determined', 'image', 'aj', 'plane', 'fixed', 'follows', 'p', 'hence', 'q', 'curve', 'shear', 'r', 'corresponding', 'axis', 'f', 'meets', 'pencil', '**zg', 'polynomial', 'tangent', 'transformed', 'arbitrary', 'curves', 'vertex']\n",
      "['stress', 'possibly', 'etc.', 'device', 'disease', 'gradually', 'tendency', 'concentration', 'wave', 'contain', 'explanation', 'core', 'occur', 'i.e.', 'reactions', 'distinct', 'rare', 'shift', 'improve', 'pressures', 'pleasant', 'regardless', 'thyroid', 'delivered', 'devices', 'affected', 'intention', 'normally', 'satisfied', 'conclusions', 'accuracy', 'sympathetic', 'isolated', 'accurate', 'precise', 'lacking', 'effectiveness', 'extraordinary', 'secondary', 'fallout', 'voting', 'deliberately', 'radical', 'consciousness', 'merit', 'solutions', 'examination', 'peculiar', 'drugs', 'optimal', 'minimal', 'clinical', 'treat', 'responsibilities', 'observe', 'cited', 'meaningful', 'interpreted', 'sitter', 'justified', 'lighting', 'assumptions', 'empirical', 'altered', 'resist', 'wealth', 'casual', 'targets', 'possessed', 'alienation', 'defend', 'urge', 'habits', \"patient's\", 'basically', 'strongest', 'notable', 'overwhelming', 'biological', 'pupil', 'imposed', 'avoided', 'allows', 'deadly', 'startling', 'naive', 'assert']\n",
      "['de', 'murder', 'hanover', 'minister', 'cook', 'wright', 'liquor', 'anne', 'engineer', 'carl', 'magazine', 'soldier', 'handed', 'paul', 'robinson', 'sister', 'roy', 'chose', 'colonel', 'chicken', 'maris', 'managed', 'reporters', 'sentence', 'keys', 'missing', 'bride', 'williams', 'remarked', 'chandler', 'checked', 'woodruff', 'divorce', 'lieutenant', 'morse', 'ann', 'anxious', 'promptly', 'gentleman', 'marshall', 'unhappy', 'widow', 'billy', 'coolidge', 'marshal', 'arlene', 'conductor', 'cancer', 'hired', 'grateful', 'fortune', 'bang-jensen', 'moore', 'mason', 'mexican', 'theresa', 'harder', 'burns', 'curiosity', 'quiney', 'ralph', 'sighed', 'ah', \"woman's\", 'aunt', 'desperately', 'laughter', 'joke', 'witnesses', 'ben', 'joyce', 'pause', 'wondering', 'cromwell', 'bridget', 'buck', 'arnold', 'loud', 'boss', 'worries', 'michelangelo', 'borden', 'freddy', 'rob', 'vincent', 'addressed', 'arrested', 'ham', 'dreamed', 'servant', 'paula', 'murderer', 'rousseau', 'folks']\n",
      "['school', 'college', 'university', 'students', 'class', 'county', 'student', 'negro', 'interested', 'active', 'catholic', 'teacher', 'receive', 'jewish', 'faculty', 'texas', 'teachers', 'teaching', 'courses', 'professor', 'organized', 'academic', 'attend', 'institute', 'campus', 'graduate', 'brooklyn', 'carleton', 'attending']\n",
      "['covered', 'glass', 'weight', 'bottom', 'carefully', 'edge', 'knife', 'walls', 'clean', 'beat', 'dry', 'ends', 'hung', 'holding', 'metal', 'heavily', 'roof', 'hole', 'wood', 'grass', 'loose', 'wooden', 'rolled', 'salt', 'sheet', 'cup', 'brush', 'dirt', 'coat', 'cloth', 'smooth', 'track', 'edges', 'blocks', 'height', 'sugar', 'roll', 'lightly', 'gently', 'strip', 'pressed', 'pot', 'butter', 'leather', 'bowl', 'heels', 'belly', 'plaster', 'screw', 'trim', 'foil', 'pipe', 'boots', 'toast', 'brass']\n",
      "['roads', 'hundreds', 'visitors', 'pont', 'sept.', 'senior', 'fewer', 'spots', 'kansas', 'juniors', 'replace', 'movie', 'suburban', 'oct.', 'yankees', 'scattered', 'restrictions', 'bridges', 'intervals', 'jersey', 'pupils', 'enthusiastic', 'ruling', 'qualified', 'rank', 'honored', 'ford', 'exclusively', 'channels', 'dedicated', 'heights', 'westminster', 'madison', 'hollywood', 'radar', 'exhibition', 'melting', 'preparing', 'port', 'michigan', 'surrounded', 'loop', 'passengers', 'vermont', 'tsunami', 'observers', 'sailing', 'residents', 'manhattan', 'chapel', 'fortunately', 'listeners', 'elementary', 'condemned', 'exceptional', 'daytime']\n",
      "['since', 'found', 'part', 'though', 'almost', 'far', 'yet', 'often', 'children', 'least', 'family', 'gave', 'today', 'either', 'seen', 'words', 'already', 'became', 'known', 'age', 'strong', 'book', 'alone', 'living', 'except', 'read', 'person', 'lost', 'added', 'actually', 'picture', 'difficult', 'working', 'earlier', 'reading', 'showed', 'color', 'comes', 'somewhat', 'note', 'apparently', 'manner', 'daily', 'served', 'appear', 'parts', 'completely', 'places', 'books', 'usual', 'changed', 'successful', 'remain', 'moreover', 'begin', 'mission', 'command', 'naturally', 'realized']\n",
      "['great', 'american', 'group', 'among', 'history', 'whose', 'common', 'art', 'century', 'modern', 'english', 'private', 'religious', 'especially', 'england', 'southern', 'concerned', 'literature', 'science', 'works', 'professional', 'role', 'reasons', 'relations', 'concern', 'popular', 'churches', 'offered', 'studied', 'politics', 'formal']\n",
      "['life', 'church', 'god', 'death', 'love', 'idea', 'spirit', 'live', 'fear', 'truth', \"man's\", 'gives', 'born', 'faith', 'knows', 'christ', 'everyone', 'lord', 'condition', 'lives', 'unity', 'universe', 'jesus', 'soul', 'eternal']\n",
      "['first', 'day', 'last', 'year', 'night', 'next', 'early', 'week', 'following', 'morning', 'return', 'late', 'hours', 'summer', 'evening', 'month', 'spring', 'march', 'hospital', 'season', 'date', 'sunday', 'june', 'dinner', 'previous', 'yesterday', 'winter', 'session', 'november', 'april', 'completed', 'monday', 'saturday', 'july', 'p.m.', 'december', 'tuesday', 'september', 'august', 'october', 'february', 'a.m.', 'thursday']\n",
      "['opportunity', 'nuclear', 'race', 'advantage', 'equally', 'weapons', 'slow', 'confidence', 'risk', 'element', 'developing', 'protestant', 'millions', 'destroy', 'testimony', 'unknown', 'atomic', 'valuable', 'qualities', 'republic', 'pride', 'skill', 'opposed', 'talent', 'mankind', 'inevitably', 'aim', 'fruit', 'dignity', 'prepare', 'examine', 'artistic', 'survival', 'courage', 'russians', 'sacrifice', 'committed', 'worthy', 'magnificent', 'germans', 'judgments', 'overcome', 'justify', 'pressing', 'insure', 'desires', 'hearts', 'rhythm', 'destiny', 'urgent', 'certainty', 'achievements', 'ambition', 'realm']\n",
      "['number', 'system', 'large', 'within', 'area', 'period', 'areas', 'total', 'usually', 'growth', 'population', 'numbers', 'larger', 'persons', 'pattern', 'growing', 'relatively', 'classes', 'stations']\n",
      "['performance', 'easily', 'attempt', 'caused', 'aware', 'capacity', 'youth', 'presence', 'observed', 'sharp', 'chosen', 'danger', 'protection', 'background', 'dramatic', 'extreme', 'setting', 'sensitive', 'causes', 'critical', 'fairly', 'details', 'apparent', 'combination', 'evident', 'finding', 'slight', 'depth', 'conscious', 'target', 'offers', 'warning', 'changing', 'urban', 'increasingly', 'sufficiently', 'anxiety', 'studying', 'intense', 'regions', 'turns', 'tremendous', 'contribution', 'mixed', 'outlook', 'desirable', 'raising', 'alert', 'grave', 'unconscious', 'tasks', 'applying', 'reaches', 'shelters', 'exposure', 'explicit', 'appreciation', 'emphasize']\n",
      "['mrs.', 'john', 'dr.', 'william', 'j.', 's.', 'a.', 'james', 'c.', 'e.', 'w.', 'henry', 'robert', 'b.', 'jr.', 'h.', 'd.', 'm.', 'r.', 'f.', 'p.', 'l.', 'joseph', 'smith', 'g.', 'senator', 't.']\n",
      "['state', 'public', 'government', 'national', 'members', 'service', 'local', 'special', 'federal', 'board', 'department', 'policy', 'education', 'medical', 'u.s.', 'administration', 'foreign', 'international', 'labor', 'trade', 'services', 'aid', 'association', 'planning', 'responsibility', 'health', 'council', 'commission', 'share', 'project', 'citizens', 'financial', 'proposed', 'affairs', 'agencies', 'governments', 'housing', 'agency', 'welfare', 'administrative']\n",
      "['tax', 'cent', 'paid', 'bill', 'due', 'fiscal', 'income', 'annual', 'gain', 'du', 'estimated', 'gross', 'billion', 'sets', 'charged', 'january', 'percent', 'uniform', 'expense', 'extra', 'bonds', 'bills', 'dollar', 'shares', 'percentage', 'equivalent', 'taxes', 'load', 'charges', 'burden', 'salary', 'excess', 'reduction', 'spending', 'highway', 'estimate', 'transfer', 'allotment', \"state's\", \"nation's\", 'reserve', 'yield', 'adjustment', 'receiving', 'net', 'returns', 'farmers', 'adjusted', 'starts', 'reducing', 'ending', 'decline', 'cuts', 'excessive', 'preceding', 'fees', 'proportion', 'calendar', 'revenues', 'stockholders', 'marginal', 'cents', 'allowances', 'estimates', 'anticipated', 'monthly', 'assessment', 'refund', 'saving', 'profits', 'voters', 'remainder', 'filing', 'males', 'earnings', 'gains', 'exceed', 'earned']\n",
      "['bodies', 'animals', 'divided', 'mantle', 'collected', 'arranged', 'separated', 'consists', 'prison', 'composed', 'destroyed', 'contains', 'male', 'edition', 'crew', 'columns', 'washed', 'covers', 'tossed', 'representing', 'directions', 'suspended', 'questioned', 'shots', 'gathering', 'cure', 'operated', 'marriages', 'consisting', 'frames', 'suits', 'consisted', 'categories', 'generations', 'grades', 'carries', 'teams', 'addresses', 'bullets', 'mate', 'fitted', 'trap', 'distinctive', 'bones', \"christ's\", 'interviews', 'combinations']\n",
      "['hour', 'cattle', 'pass', 'fresh', 'train', 'fighting', 'boat', 'foot', 'passing', 'shop', 'drove', 'garden', 'onto', 'spot', 'putting', 'fill', 'pair', 'conversation', 'occasionally', 'mounted', 'approached', 'path', 'bag', 'thrown', 'quarter', 'fly', 'lunch', 'gathered', 'lane', 'santa', 'cloud', 'quarters', 'swing', 'patience', 'clock', 'happily', 'packed']\n",
      "['apartment', 'bottle', 'store', 'empty', 'safe', 'huge', 'rooms', 'pushed', 'windows', 'bedroom', 'noticed', 'lights', 'shut', 'reaching', 'crossed', 'display', 'restaurant', 'stepped', 'glance', \"father's\", 'doors', 'bench', 'yard', 'ceiling', 'basement', 'locked', 'alex', 'blanket', 'silver', 'barn', 'lighted', 'shorts', 'dining', 'upstairs', 'closing', 'hanging', 'rushed', 'slept', 'shayne', 'cellar', 'hang', 'emerged', 'partially', 'pulling', 'alec', 'backed', 'slid', 'nearest', 'lock', 'chairs', 'cabin', 'refrigerator', 'hurried', 'dressing', 'neat', 'stumbled', 'hoag', 'sheriff', 'tent', 'lobby', 'peered', 'crawled', 'suitcase']\n",
      "['list', 'marked', 'variety', 'collection', 'index', 'procedure', 'address', 'chapter', 'phase', 'text', 'contained', 'previously', 'requires', 'dictionary', 'description', 'assigned', 'characteristics', 'chain', 'chamber', 'intended', 'recorded', 'indicates', 'definition', 'relationships', 'illustrated', 'tested', 'stored', 'symbolic', 'phrase', 'stems', 'e.g.', 'allowing', 'sheets', 'occurrence', 'absent', 'concepts', 'entry', 'switches', 'category', 'physiological', 'mode', 'passages', 'applies']\n",
      "['island', 'rhode', 'formed', 'junior', 'interior', 'closely', 'no.', 'library', 'conducted', 'theater', 'massachusetts', 'engaged', 'boards', 'includes', 'appointed', 'regional', 'francisco', 'colleges', 'districts', 'signed', 'elected', 'prince', 'advised', 'strictly', 'universities', 'panel', 'sponsored', 'louisiana', 'libraries', 'trustees', 'clubs', 'academy', 'registered', 'furnished', 'publications', 'participate', 'legislators', 'parks', 'cooperative', 'supervision', 'comprehensive', 'formally', 'athletic']\n",
      "['leading', 'sports', 'losses', 'impression', 'ease', 'neutral', 'moves', 'preserve', 'realistic', 'drill', 'remote', 'conservative', 'widespread', 'expert', 'islands', 'secure', 'slave', 'contributions', 'false', 'delight', 'exclusive', 'african', 'placing', 'publicly', 'reputation', 'suspicion', 'outdoor', 'preferred', 'peaceful', 'identify', 'constitutional', 'attracted', 'delayed', 'proceeded', 'undoubtedly', 'biggest', 'chances', 'tribute', 'depression', 'wishes', 'cycle', 'thinks', 'champion', 'adults', 'sharing', 'attempting', 'sentiment', 'trace', 'enable', 'habit', 'sponsor', 'posts', 'empire', 'balanced', 'respects', 'regularly', 'surrender', 'eighteenth', 'shell', 'thrust', 'nov.', 'dedication', 'unlikely', 'races', 'revolutionary', 'painter', 'faulkner', 'orderly', 'el', 'solve', 'hospitals', 'dominated', 'tactics', 'pioneer', 'promises', 'crash', 'guided', 'crop', 'struggling', 'alike', 'hatred', 'twentieth', 'merchant', 'anticipation', 'consistently', 'convenience', \"men's\", 'attract', \"people's\", 'fatal', 'flood', 'tobacco']\n",
      "['pull', 'firmly', 'guard', 'terrible', 'switch', 'stronger', 'push', 'noise', 'jim', 'sounded', 'beer', 'smell', 'sending', 'openly', 'blow', 'naked', 'scotty', 'barely', 'horn', 'nowhere', 'listened', 'hoping', 'mighty', 'wound', 'laughing', 'pistol', 'upward', 'dull', 'shirt', 'breaking', 'pile', 'painful', 'fist', 'fog', 'saddle', 'bend', 'jump', 'barrel', 'cheap', 'lift', 'stern', 'stuck', 'cat', 'deck', 'pip', 'warned', 'attacks', 'tip', 'panic', 'racing', 'sticks', 'fault', 'freely', 'flash', 'dishes', 'obliged', 'dare', \"b'dikkat\", 'decent', 'physically', 'secrets', 'hidden', 'cream', 'endless', 'laura', 'cathy', 'snapped', 'whip', 'crown', 'companion', 'toes', 'ladder', 'slip', 'amen', 'twisted', 'glued', 'killpath']\n",
      "['two', 'miles', 'nearly', 'spent', 'thousand', 'worth', 'twenty', 'approximately', 'fifty', 'thirty', 'fifteen', 'spend', 'decade', 'acres', 'pounds', \"o'clock\", 'eleven', 'forty', 'fourteen', 'tons', 'twenty-five', 'seventeen', 'sixty']\n",
      "['still', 'long', 'feet', 'land', 'reached', 'passed', 'lay', 'wide', 'running', 'eye', 'forward', 'moving', 'ahead', 'deep', 'distance', 'reach', 'raised', 'sides', 'filled', 'bridge', 'sea', 'sign', 'cover', 'rose', 'spread', 'slightly', 'bar', 'watch', 'picked', 'laid', 'rock', 'broke', 'box', 'drew', 'occurred', 'towards', 'yards', 'broken', 'shore', 'circle', 'wheel', 'flight', 'flying', 'mud', 'counter']\n",
      "['ordinary', 'factor', 'portion', 'associated', 'uses', 'conclusion', 'represented', 'negative', 'depends', 'depend', 'origin', 'resulting', 'obtain', 'distinction', 'represents', 'derived', 'defined', 'random', 'n', 'effectively', 'variable', 'affect', 'calculated', 'vary', 'namely', 'skywave', 'consequently', 'identical', 'frequencies', 'absolute', 'morality', 'constitute', 'magnitude', 'specified', 'compare', 'define', 'outcome', 'variables', 'component', 'displacement', 'successes', 'middle-class', 'masses', 'computed', 'intermediate', 'solely', 'probabilities', 'numerical']\n",
      "['united', 'war', 'west', 'french', 'europe', 'british', 'attack', 'civil', 'german', 'germany', 'russian', 'france', 'berlin', 'russia', 'responsible', 'china', 'stands', 'soldiers', 'britain', 'symbol', 'troops', 'abroad', 'latin', 'constitution', 'royal', 'cuba', 'northern', 'africa', 'prime', 'asia', 'mobile', 'slaves', 'nineteenth', 'atlantic', 'agents', 'japan', 'navy', 'canada', 'fate', 'naval', 'survive', 'poland', 'prokofieff', 'eastern', 'allies', 'propaganda', 'threatened', 'volunteers', 'furnish', 'newly', 'diplomatic', 'commander', 'veteran', 'settlement', 'wars', 'traders', 'cavalry', 'nato', 'regiment', 'occupation', 'entering', 'strategy', 'overseas', 'colonial', 'behalf', 'katanga', 'educated', 'telegraph', 'treaty', 'alliance', 'socialism', 'sixteen', 'hostile']\n",
      "['act', 'shall', 'section', 'agreement', 'corporation', 'term', 'enter', 'title', 'assumed', 'article', 'assignment', 'contract', 'commerce', 'india', 'entitled', 'payment', 'assembly', 'request', 'payments', 'provision', 'purchase', 'expenses', 'award', 'amounts', 'sale', 'treasury', 'e', 'joint', 'code', 'provisions', 'specifically', 'authorized', 'loans', 'guilty', 'limitations', 'reorganization', 'pursuant', 'alaska', 'relating', 'sec.']\n",
      "['judge', 'louis', 'fellow', 'martin', 'la', 'arthur', 'los', 'speaker', 'representative', 'author', 'edward', 'alexander', 'adams', 'vice', 'dean', 'walter', 'lawrence', 'mayor', 'assistant', 'jackson', 'wise', 'baker', 'clark', 'johnson', 'samuel', 'lee', 'van', 'v.', 'sen.', 'franklin', 'o.', 'albert', 'appointment', 'harris', 'n.', 'sergeant', 'davis', 'hughes', 'jefferson', 'controversy', \"kennedy's\", 'mitchell', 'houston', 'eugene', 'gen.', 'douglas', 'memorial', 'jean', \"brown's\", 'victor', 'genius', 'rev.', 'di', 'sandburg', 'morris', 'johnston', 'vernon', 'francis', 'taylor', 'allen', 'jan.', 'notte', 'donald', 'purchased', 'gov.', 'commissioner', 'ray', 'frederick', 'austin']\n",
      "['program', 'development', 'provide', 'schools', 'research', 'training', 'addition', 'programs', 'technical', 'activities', 'facilities', 'funds', 'assistance', 'vocational', 'organizations', 'recreation', 'laboratory', 'skills']\n",
      "['game', 'played', 'team', 'mark', 'failed', 'fourth', 'league', 'victory', 'minor', 'orders', 'appearance', 'baseball', 'double', 'palmer', 'win', 'runs', 'games', 'largest', 'introduced', 'player', \"year's\", 'bob', 'tv', 'fifth', 'piano', 'football', 'bomb', 'cards', 'row', 'knee', \"world's\", 'presidential', 'golf', 'decades', 'rice', 'nights', 'symphony', 'players', 'trips', 'sessions', 'sixth', 'bears', 'concerts', 'card', 'stadium', 'coach', 'broadway', 'arrive', 'eighth', 'ruth', 'resumed', 'hits', 'pitch', 'spectacular', 'engagement', 'auto', 'speeches', 'definitely', 'anniversary', 'ninth', 'tournament', 'calif.', 'guitar']\n"
     ]
    }
   ],
   "source": [
    "for i in range (len(clusters)):\n",
    "    print (clusters[i])"
   ]
  },
  {
   "cell_type": "code",
   "execution_count": null,
   "metadata": {
    "collapsed": true
   },
   "outputs": [],
   "source": []
  }
 ],
 "metadata": {
  "kernelspec": {
   "display_name": "Python 3",
   "language": "python",
   "name": "python3"
  },
  "language_info": {
   "codemirror_mode": {
    "name": "ipython",
    "version": 3
   },
   "file_extension": ".py",
   "mimetype": "text/x-python",
   "name": "python",
   "nbconvert_exporter": "python",
   "pygments_lexer": "ipython3",
   "version": "3.6.2"
  }
 },
 "nbformat": 4,
 "nbformat_minor": 2
}

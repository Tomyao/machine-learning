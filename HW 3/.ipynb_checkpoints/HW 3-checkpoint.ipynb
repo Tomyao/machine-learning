{
 "cells": [
  {
   "cell_type": "code",
   "execution_count": 18,
   "metadata": {
    "collapsed": true
   },
   "outputs": [],
   "source": [
    "from sklearn.naive_bayes import GaussianNB\n",
    "from scipy.stats import multivariate_normal\n",
    "import numpy as np"
   ]
  },
  {
   "cell_type": "code",
   "execution_count": 2,
   "metadata": {
    "collapsed": true
   },
   "outputs": [],
   "source": [
    "def get_data_and_labels(images_filename, labels_filename):\n",
    "    print(\"Opening files ...\")\n",
    "    images_file = open(images_filename, \"rb\")\n",
    "    labels_file = open(labels_filename, \"rb\")\n",
    "\n",
    "    try:\n",
    "        print(\"Reading files ...\")\n",
    "        images_file.read(4)\n",
    "        num_of_items = int.from_bytes(images_file.read(4), byteorder=\"big\")\n",
    "        num_of_rows = int.from_bytes(images_file.read(4), byteorder=\"big\")\n",
    "        num_of_colums = int.from_bytes(images_file.read(4), byteorder=\"big\")\n",
    "        labels_file.read(8)\n",
    "\n",
    "        num_of_image_values = num_of_rows * num_of_colums\n",
    "        data = [[None for x in range(num_of_image_values)]\n",
    "                for y in range(num_of_items)]\n",
    "        labels = []\n",
    "        for item in range(num_of_items):\n",
    "            if item % 10000 == 0:\n",
    "                print(\"Current image number: %7d\" % item)\n",
    "            for value in range(num_of_image_values):\n",
    "                data[item][value] = int.from_bytes(images_file.read(1),\n",
    "                                                   byteorder=\"big\")\n",
    "            labels.append(int.from_bytes(labels_file.read(1), byteorder=\"big\"))\n",
    "        return data, labels\n",
    "    finally:\n",
    "        images_file.close()\n",
    "        labels_file.close()\n",
    "        print(\"Files closed.\")\n"
   ]
  },
  {
   "cell_type": "code",
   "execution_count": 3,
   "metadata": {},
   "outputs": [
    {
     "name": "stdout",
     "output_type": "stream",
     "text": [
      "Opening files ...\n",
      "Reading files ...\n",
      "Current image number:       0\n",
      "Current image number:   10000\n",
      "Current image number:   20000\n",
      "Current image number:   30000\n",
      "Current image number:   40000\n",
      "Current image number:   50000\n",
      "Files closed.\n"
     ]
    }
   ],
   "source": [
    "train_x, train_y  = get_data_and_labels(\"mnist_train_images\", \"mnist_train_labels\")"
   ]
  },
  {
   "cell_type": "code",
   "execution_count": 4,
   "metadata": {},
   "outputs": [
    {
     "name": "stdout",
     "output_type": "stream",
     "text": [
      "Opening files ...\n",
      "Reading files ...\n",
      "Current image number:       0\n",
      "Files closed.\n"
     ]
    }
   ],
   "source": [
    "test_x, test_y  = get_data_and_labels(\"mnist_test_images\", \"mnist_test_labels\")"
   ]
  },
  {
   "cell_type": "code",
   "execution_count": 5,
   "metadata": {},
   "outputs": [
    {
     "name": "stdout",
     "output_type": "stream",
     "text": [
      "10000\n",
      "10000\n",
      "50000\n",
      "50000\n"
     ]
    }
   ],
   "source": [
    "valx = train_x[50000:]\n",
    "valy = train_y[50000:]\n",
    "print (len(valx))\n",
    "print (len(valy))\n",
    "trainx = train_x[:50000]\n",
    "trainy = train_y[:50000]\n",
    "print (len(trainx))\n",
    "print (len(trainy))"
   ]
  },
  {
   "cell_type": "code",
   "execution_count": 6,
   "metadata": {},
   "outputs": [
    {
     "name": "stdout",
     "output_type": "stream",
     "text": [
      "[0 1 2 3 4 5 6 7 8 9]\n"
     ]
    },
    {
     "data": {
      "text/plain": [
       "array([ 0.09864,  0.11356,  0.09936,  0.10202,  0.09718,  0.09012,\n",
       "        0.09902,  0.1035 ,  0.09684,  0.09976])"
      ]
     },
     "execution_count": 6,
     "metadata": {},
     "output_type": "execute_result"
    }
   ],
   "source": [
    "helper = GaussianNB()\n",
    "helper.fit(trainx, trainy)\n",
    "classes = helper.classes_\n",
    "priors = helper.class_prior_\n",
    "print (classes)\n",
    "priors"
   ]
  },
  {
   "cell_type": "code",
   "execution_count": 7,
   "metadata": {
    "collapsed": true
   },
   "outputs": [],
   "source": [
    "# sort training set into digits 0-9\n",
    "digit_train = {}\n",
    "for i in range(len(trainx)):\n",
    "    if trainy[i] not in digit_train:\n",
    "        digit_train[trainy[i]] = [trainx[i]]\n",
    "    else:\n",
    "        digit_train[trainy[i]].append(trainx[i])"
   ]
  },
  {
   "cell_type": "code",
   "execution_count": 12,
   "metadata": {},
   "outputs": [],
   "source": [
    "posteriors_helper=[]\n",
    "\n",
    "for klass in classes:\n",
    "    examples = np.matrix(digit_train[klass])\n",
    "    mean = np.array(examples.mean(0))[0]\n",
    "    cov = np.cov(examples.T)\n",
    "    posteriors_helper.append([mean,cov])"
   ]
  },
  {
   "cell_type": "code",
   "execution_count": 35,
   "metadata": {
    "collapsed": true
   },
   "outputs": [],
   "source": [
    "def pipeline(c, testx, testy):\n",
    "    predicted_y = []\n",
    "    \n",
    "    posteriors = []\n",
    "    for klass in classes:\n",
    "        mean = posteriors_helper[klass][0]\n",
    "        cov_smoothed = posteriors_helper[klass][1] + (c * np.eye(mean.shape[0]))\n",
    "        p_x = multivariate_normal(mean=mean, cov=cov_smoothed)\n",
    "        posteriors.append(p_x)\n",
    "        \n",
    "    for i in range(len(testx)):\n",
    "        bayes_probs = []\n",
    "        for klass in classes:\n",
    "            prob = [klass, np.log(priors[klass]) + posteriors[klass].logpdf(testx[i])]\n",
    "            bayes_probs.append(prob)\n",
    "\n",
    "        prediction = max(bayes_probs, key= lambda a: a[1])\n",
    "        predicted_y.append(prediction[0])\n",
    "    \n",
    "    errors = 0\n",
    "    for i in range(len(testy)):\n",
    "        if predicted_y[i] != testy[i]:\n",
    "            errors += 1\n",
    "    total = len(testx)\n",
    "    print(\"Error rate: %d/%d = %f\" % ((errors,total,(errors/float(total)))))"
   ]
  },
  {
   "cell_type": "code",
   "execution_count": 36,
   "metadata": {},
   "outputs": [
    {
     "name": "stdout",
     "output_type": "stream",
     "text": [
      "Error rate: 1225/10000 = 0.122500\n"
     ]
    }
   ],
   "source": [
    "pipeline(10, valx, valy)"
   ]
  },
  {
   "cell_type": "code",
   "execution_count": null,
   "metadata": {
    "collapsed": true
   },
   "outputs": [],
   "source": [
    "pipeline(100, valx, valy)"
   ]
  },
  {
   "cell_type": "code",
   "execution_count": null,
   "metadata": {
    "collapsed": true
   },
   "outputs": [],
   "source": [
    "pipeline(1000, valx, valy)"
   ]
  },
  {
   "cell_type": "code",
   "execution_count": null,
   "metadata": {
    "collapsed": true
   },
   "outputs": [],
   "source": []
  }
 ],
 "metadata": {
  "kernelspec": {
   "display_name": "Python 3",
   "language": "python",
   "name": "python3"
  },
  "language_info": {
   "codemirror_mode": {
    "name": "ipython",
    "version": 3
   },
   "file_extension": ".py",
   "mimetype": "text/x-python",
   "name": "python",
   "nbconvert_exporter": "python",
   "pygments_lexer": "ipython3",
   "version": "3.6.2"
  }
 },
 "nbformat": 4,
 "nbformat_minor": 2
}
